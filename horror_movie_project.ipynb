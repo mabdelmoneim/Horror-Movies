{
 "cells": [
  {
   "cell_type": "code",
   "execution_count": null,
   "id": "c9eb085d-eacd-4bec-989f-6f9ed491e866",
   "metadata": {},
   "outputs": [],
   "source": [
    "import pandas as pd\n",
    "import numpy as np \n",
    "import seaborn as sns \n",
    "import plotly.express as px \n",
    "import matplotlib.pyplot as plt \n",
    "%matplotlib inline"
   ]
  },
  {
   "cell_type": "code",
   "execution_count": null,
   "id": "09fa351f-4cec-4d8d-a7c2-14d94fec9a6f",
   "metadata": {},
   "outputs": [],
   "source": [
    "df = pd.read_csv('D:\\epsilon course\\datasets\\horror_movies.csv')\n",
    "df.head()"
   ]
  },
  {
   "cell_type": "code",
   "execution_count": null,
   "id": "46ec174e-169e-4196-84e1-22e79ec85632",
   "metadata": {},
   "outputs": [],
   "source": [
    "df.info()"
   ]
  },
  {
   "cell_type": "code",
   "execution_count": null,
   "id": "bee196cf-9f6d-4955-a81f-352263058642",
   "metadata": {},
   "outputs": [],
   "source": [
    "round(df.describe())"
   ]
  },
  {
   "cell_type": "code",
   "execution_count": null,
   "id": "4658c9b3-7571-4d65-85ca-a2c6cff7f148",
   "metadata": {},
   "outputs": [],
   "source": [
    "df.columns = df.columns.str.lower()\n",
    "df.columns = df.columns.str.strip()\n",
    "df.columns = df.columns.str.replace(' ','_')\n",
    "df"
   ]
  },
  {
   "cell_type": "markdown",
   "id": "9bd4b630-ab67-4b47-87a1-818e0aee3ef7",
   "metadata": {},
   "source": [
    "## check missing values"
   ]
  },
  {
   "cell_type": "code",
   "execution_count": null,
   "id": "5ab590ac-739a-469c-a8ba-f771a695c371",
   "metadata": {},
   "outputs": [],
   "source": [
    "df.isna().sum()"
   ]
  },
  {
   "cell_type": "markdown",
   "id": "da6ae8f0-64b9-46dd-98ac-441788954740",
   "metadata": {},
   "source": [
    "## check duplicated values"
   ]
  },
  {
   "cell_type": "code",
   "execution_count": null,
   "id": "c47e44a0-64e9-4ac2-bc4d-e7f2bb18b205",
   "metadata": {},
   "outputs": [],
   "source": [
    "df.duplicated().sum()"
   ]
  },
  {
   "cell_type": "markdown",
   "id": "72b7f2e4-9ac3-45f0-825f-516fd0088500",
   "metadata": {},
   "source": [
    "## convert released date to datetime format"
   ]
  },
  {
   "cell_type": "code",
   "execution_count": null,
   "id": "01775fa9-ae40-4738-bce6-e88f7a3d796f",
   "metadata": {},
   "outputs": [],
   "source": [
    "df['release_date'] = pd.to_datetime(df['release_date'])"
   ]
  },
  {
   "cell_type": "code",
   "execution_count": null,
   "id": "8ca1f0aa-1a21-4f37-8371-6d4ec1cf7b06",
   "metadata": {},
   "outputs": [],
   "source": [
    "df.info()"
   ]
  },
  {
   "cell_type": "markdown",
   "id": "30563619-63ee-4df3-9206-2b152631fab1",
   "metadata": {},
   "source": []
  },
  {
   "cell_type": "markdown",
   "id": "1c9fa9aa-0e68-4743-b40f-edd8ebddef42",
   "metadata": {},
   "source": [
    "## univariate analysis"
   ]
  },
  {
   "cell_type": "code",
   "execution_count": null,
   "id": "5776cf8f-1a1d-4cc1-9688-ac807de015f2",
   "metadata": {},
   "outputs": [],
   "source": [
    "numeric_columns = df.select_dtypes(include = np.number).columns\n",
    "numeric_columns"
   ]
  },
  {
   "cell_type": "code",
   "execution_count": null,
   "id": "eed998a5-70c4-4e0b-833d-b06a8cfa604e",
   "metadata": {
    "scrolled": true
   },
   "outputs": [],
   "source": [
    "for col in numeric_columns:\n",
    "    sns.boxplot(data = df, x=col)\n",
    "    plt.show()"
   ]
  },
  {
   "cell_type": "code",
   "execution_count": null,
   "id": "45e519ff-f277-4e1e-9d12-fe8a70d15234",
   "metadata": {},
   "outputs": [],
   "source": [
    "df_num = df.select_dtypes(include='number')\n",
    "plt.figure(figsize =[14,7])\n",
    "sns.heatmap(df_num.corr(),annot=True)\n"
   ]
  },
  {
   "cell_type": "markdown",
   "id": "d3b0873e-419f-4351-9522-c8bd039e85ed",
   "metadata": {},
   "source": [
    "## bivariate analysis"
   ]
  },
  {
   "cell_type": "code",
   "execution_count": null,
   "id": "b47fae45-49b2-459a-b38b-f5b33ba5c1ed",
   "metadata": {},
   "outputs": [],
   "source": [
    "sns.scatterplot(data = df, x='release_date',y='revenue',hue='vote_count')"
   ]
  },
  {
   "cell_type": "markdown",
   "id": "3c5352c0-728f-4dd4-a027-8fe9022097e3",
   "metadata": {},
   "source": [
    "## creating new features"
   ]
  },
  {
   "cell_type": "code",
   "execution_count": null,
   "id": "f625979c-aeea-4760-960c-841ebc72d46e",
   "metadata": {},
   "outputs": [],
   "source": [
    "df['month'] = df['release_date'].dt.month\n",
    "df['day'] = df['release_date'].dt.day\n",
    "df['year'] = df['release_date'].dt.year"
   ]
  },
  {
   "cell_type": "markdown",
   "id": "96531849-0e36-4200-b6e5-20ffde070fb8",
   "metadata": {},
   "source": [
    "## Analysis Questions"
   ]
  },
  {
   "cell_type": "markdown",
   "id": "746f0195-a524-4213-9e95-34ca58d1eb8e",
   "metadata": {},
   "source": [
    "## what is the average popularity rating of horror movies in the dataset?"
   ]
  },
  {
   "cell_type": "code",
   "execution_count": null,
   "id": "0fc60bfa-a1ba-4920-9b62-ba35ddc53356",
   "metadata": {},
   "outputs": [],
   "source": [
    "df['popularity'].mean()"
   ]
  },
  {
   "cell_type": "markdown",
   "id": "2dda0bc5-304d-41ff-b5ed-81fafbb1b302",
   "metadata": {},
   "source": [
    "## Which horror movie has the highest revenue?\r\n",
    "\r\n"
   ]
  },
  {
   "cell_type": "code",
   "execution_count": null,
   "id": "2471374b-20c0-4ad0-8290-1b4ed22fac62",
   "metadata": {},
   "outputs": [],
   "source": [
    "df['revenue'].max()"
   ]
  },
  {
   "cell_type": "markdown",
   "id": "c99355c3-f85d-4924-818c-5d83ea4f33cc",
   "metadata": {},
   "source": [
    "## What is the distribution of runtime for horror movies?"
   ]
  },
  {
   "cell_type": "code",
   "execution_count": null,
   "id": "324548d3-60d3-4ca3-bd6d-5d782cd4c6cf",
   "metadata": {},
   "outputs": [],
   "source": [
    "df['runtime'].describe()"
   ]
  },
  {
   "cell_type": "markdown",
   "id": "74db2b00-5066-41fb-8c4d-50b7b8626130",
   "metadata": {},
   "source": [
    "## How many horror movies in the dataset are part of a collection?"
   ]
  },
  {
   "cell_type": "code",
   "execution_count": null,
   "id": "bb3f018c-080f-4999-a03a-83f636f0deb5",
   "metadata": {},
   "outputs": [],
   "source": [
    "df['collection'].count()"
   ]
  },
  {
   "cell_type": "markdown",
   "id": "592551f9-ab67-4ffc-b048-4823e206f660",
   "metadata": {},
   "source": [
    "## Which horror movies has the highest vote average?"
   ]
  },
  {
   "cell_type": "code",
   "execution_count": null,
   "id": "5df67b37-8561-4df8-92b2-a5d081fcba95",
   "metadata": {},
   "outputs": [],
   "source": [
    "df['vote_average'].max()"
   ]
  },
  {
   "cell_type": "markdown",
   "id": "a9909d77-25de-48c8-9fdb-6fcbcf87a104",
   "metadata": {},
   "source": [
    "## \tWhat is the most common original language among horror movies?"
   ]
  },
  {
   "cell_type": "code",
   "execution_count": null,
   "id": "c8a20bf1-ed9f-4eae-abd7-c36d256e82a8",
   "metadata": {},
   "outputs": [],
   "source": [
    "df['original_language'].mode()[0]"
   ]
  },
  {
   "cell_type": "markdown",
   "id": "3a0a3939-9972-401b-9f22-b552d7670142",
   "metadata": {},
   "source": [
    "## Is there a correlation between movie popularity and vote count?"
   ]
  },
  {
   "cell_type": "code",
   "execution_count": null,
   "id": "57ba29a7-610c-4249-a5de-efac6d6de3f8",
   "metadata": {},
   "outputs": [],
   "source": [
    "df['popularity'].corr(df['vote_count'])"
   ]
  },
  {
   "cell_type": "markdown",
   "id": "9a1efd3a-6e9c-4229-9eda-d3622f9d44a6",
   "metadata": {},
   "source": [
    "## what is the minimum revenue?"
   ]
  },
  {
   "cell_type": "code",
   "execution_count": null,
   "id": "31aa660b-78e5-4fee-b53b-a079f0c718ac",
   "metadata": {},
   "outputs": [],
   "source": [
    "df['revenue'].min()"
   ]
  },
  {
   "cell_type": "markdown",
   "id": "f6d0e03e-ecd9-4165-bf75-2ca81f381ce7",
   "metadata": {},
   "source": [
    "## what is the highest 10 movies revenue?"
   ]
  },
  {
   "cell_type": "code",
   "execution_count": null,
   "id": "71312a47-a561-4464-8641-aa82ecd8c5b2",
   "metadata": {},
   "outputs": [],
   "source": [
    "df.groupby('title')['revenue'].max().sort_values(ascending=False).head(10)"
   ]
  },
  {
   "cell_type": "markdown",
   "id": "db64c37e-a352-4b48-acb0-e288ce34131b",
   "metadata": {},
   "source": [
    "## How many movies are released in each year?"
   ]
  },
  {
   "cell_type": "code",
   "execution_count": null,
   "id": "0c24e349-0bfe-4a2d-8b2d-6614ae81cb98",
   "metadata": {},
   "outputs": [],
   "source": [
    "df['year'].value_counts().sort_index()"
   ]
  },
  {
   "cell_type": "markdown",
   "id": "977e3439-be2d-460c-9fd5-f0e42f9b480d",
   "metadata": {},
   "source": [
    "## How many movies are part of a collection?"
   ]
  },
  {
   "cell_type": "code",
   "execution_count": null,
   "id": "42778f74-f86a-475b-90fe-00fddceac0a2",
   "metadata": {},
   "outputs": [],
   "source": [
    "df['collection_name'].count()"
   ]
  },
  {
   "cell_type": "markdown",
   "id": "bb199a0a-c13e-4775-b036-aa149d995977",
   "metadata": {},
   "source": [
    "## what is the total revenue of the movies?"
   ]
  },
  {
   "cell_type": "code",
   "execution_count": null,
   "id": "43859f18-52fd-4c65-93a4-f9d67fc0ded7",
   "metadata": {},
   "outputs": [],
   "source": [
    "df['revenue'].sum()"
   ]
  },
  {
   "cell_type": "markdown",
   "id": "e19bc452-9b4b-4ebb-89ab-dac9f3b69dbb",
   "metadata": {},
   "source": [
    "## how many movies are classified as horror?"
   ]
  },
  {
   "cell_type": "code",
   "execution_count": null,
   "id": "03dcf97b-208b-4655-a2b2-5abf571fd8a9",
   "metadata": {},
   "outputs": [],
   "source": [
    "len(df[df['genre_names'].str.contains('horror',case=False)])"
   ]
  },
  {
   "cell_type": "markdown",
   "id": "a2181add-6fd1-4ac1-81c9-1b3435ea9724",
   "metadata": {},
   "source": [
    "## what is the tagline of the movies with the highest 10 popularity?"
   ]
  },
  {
   "cell_type": "code",
   "execution_count": null,
   "id": "f6cbb3cf-413f-43e2-b364-350b9f5263a9",
   "metadata": {},
   "outputs": [],
   "source": [
    "df.groupby('tagline')['popularity'].max().sort_values(ascending=False).head(10)"
   ]
  },
  {
   "cell_type": "markdown",
   "id": "c0e9b583-e193-4cf8-97a4-676d8dbaa382",
   "metadata": {},
   "source": [
    "## How many movies were released in each month?"
   ]
  },
  {
   "cell_type": "code",
   "execution_count": null,
   "id": "59256273-32ed-4870-943a-146e2984562a",
   "metadata": {},
   "outputs": [],
   "source": [
    "df['month'].value_counts().sort_index()"
   ]
  },
  {
   "cell_type": "markdown",
   "id": "e1ad42d1-0c3a-4328-95bc-6b0c0148c422",
   "metadata": {},
   "source": [
    "## How many movies have a budget greater than $50 million?"
   ]
  },
  {
   "cell_type": "code",
   "execution_count": null,
   "id": "1090d085-d46b-412f-bd5f-e180451d6540",
   "metadata": {},
   "outputs": [],
   "source": [
    "len(df[df['budget']> 100000])"
   ]
  },
  {
   "cell_type": "markdown",
   "id": "51e11a8a-512c-404a-9224-4af430b04fed",
   "metadata": {},
   "source": [
    "## What is the earliest release date among the movies?"
   ]
  },
  {
   "cell_type": "code",
   "execution_count": null,
   "id": "ee0592f4-7c5a-4a93-bf9f-5e85c573fe5a",
   "metadata": {},
   "outputs": [],
   "source": [
    "df['year'].min()"
   ]
  },
  {
   "cell_type": "markdown",
   "id": "333a5db6-6000-464b-bc7f-bda17748dca1",
   "metadata": {},
   "source": [
    "## How many movies have a runtime greater than 100 minutes?"
   ]
  },
  {
   "cell_type": "code",
   "execution_count": null,
   "id": "9ee3e5e8-8003-4624-80a3-32a62fa3bad4",
   "metadata": {},
   "outputs": [],
   "source": [
    "len(df['runtime'] >= 100)"
   ]
  },
  {
   "cell_type": "markdown",
   "id": "88eb6be6-993f-4325-8262-3a3a2c4e6f33",
   "metadata": {},
   "source": [
    "## How many movies are part of the Orphan Collection?"
   ]
  },
  {
   "cell_type": "code",
   "execution_count": null,
   "id": "c0db582b-1aa6-4d46-9275-407c4833b5fc",
   "metadata": {},
   "outputs": [],
   "source": [
    "orphan_collection = df[df['collection_name'] == 'Orphan Collection']\n",
    "len(orphan_collection)"
   ]
  },
  {
   "cell_type": "markdown",
   "id": "c2f03574-4789-4bab-ac8c-0a48a11fa082",
   "metadata": {},
   "source": [
    "## How many movies were released in each day of the week?"
   ]
  },
  {
   "cell_type": "code",
   "execution_count": null,
   "id": "2b3e440f-426a-4705-8807-99a595a88d38",
   "metadata": {},
   "outputs": [],
   "source": [
    "df['day'].value_counts().sort_index()"
   ]
  },
  {
   "cell_type": "code",
   "execution_count": null,
   "id": "7d6647ff-a42e-4484-9652-6e220076dcab",
   "metadata": {},
   "outputs": [],
   "source": [
    "df.head()"
   ]
  },
  {
   "cell_type": "markdown",
   "id": "ab01fe5a-a821-44e3-808d-5c22dec9ca83",
   "metadata": {},
   "source": [
    "## dealing with missing values"
   ]
  },
  {
   "cell_type": "code",
   "execution_count": null,
   "id": "d2d4d5ac-3920-4a88-bca1-05b2afb7fd18",
   "metadata": {},
   "outputs": [],
   "source": [
    "df.isna().sum()"
   ]
  },
  {
   "cell_type": "code",
   "execution_count": null,
   "id": "8f32991c-63a4-4e7e-a5d8-e26a49041437",
   "metadata": {},
   "outputs": [],
   "source": [
    "df['collection_name'].fillna('',inplace=True)"
   ]
  },
  {
   "cell_type": "code",
   "execution_count": null,
   "id": "9b146e3f-7f83-482f-a6ee-1c16900d6067",
   "metadata": {},
   "outputs": [],
   "source": [
    "df['overview'].fillna('Empty',inplace=True)"
   ]
  },
  {
   "cell_type": "code",
   "execution_count": null,
   "id": "978fda7b-4f64-4b03-96e3-b9801147dffd",
   "metadata": {},
   "outputs": [],
   "source": [
    "df['tagline'].fillna('Empty',inplace = True)"
   ]
  },
  {
   "cell_type": "code",
   "execution_count": null,
   "id": "a485cf23-8325-475f-8899-f7d0dd023f11",
   "metadata": {},
   "outputs": [],
   "source": [
    "df['collection'].describe()"
   ]
  },
  {
   "cell_type": "code",
   "execution_count": null,
   "id": "4fb4866f-f024-4e66-acd9-0cda5f188dfc",
   "metadata": {},
   "outputs": [],
   "source": [
    "df['collection'].fillna(df['collection'].median(),inplace=True)"
   ]
  },
  {
   "cell_type": "code",
   "execution_count": null,
   "id": "800ed821-7559-455a-ad5e-72e1d74fbd87",
   "metadata": {},
   "outputs": [],
   "source": [
    " df.to_csv('horror.csv')"
   ]
  },
  {
   "cell_type": "code",
   "execution_count": null,
   "id": "1b33f6f7-a938-4f63-8e72-d13c440df600",
   "metadata": {},
   "outputs": [],
   "source": [
    "import streamlit as st"
   ]
  },
  {
   "cell_type": "code",
   "execution_count": null,
   "id": "8d444fd1-9d8c-4ede-a25d-d0cc670f6705",
   "metadata": {},
   "outputs": [],
   "source": [
    "%%writefile horror_movies1.py\n",
    "import streamlit as st\n",
    "import pandas as pd\n",
    "import plotly.express as px\n",
    "import matplotlib.pyplot as plt\n",
    "import seaborn as sns\n",
    "\n",
    "st.set_page_config(layout='wide',\n",
    "                  page_title = 'dashboard')\n",
    "\n",
    "tab1, tab2, tab3 = st.tabs(['descriptive statistics', 'numerical charts', 'categorical chart'])\n",
    "\n",
    "df = pd.read_csv(r\"D:\\epsilon course\\datasets\\horror.csv\")\n",
    "box = st.sidebar.checkbox('show data', False ,key =1)\n",
    "num = df.describe()\n",
    "cat = df.describe(include=\"O\")\n",
    "\n",
    "\n",
    "\n",
    "if box:\n",
    "    st.header('sample data')\n",
    "    st.dataframe(df.head(10))\n",
    "\n",
    "with tab1:\n",
    "    col1,col2,col3 = st.columns(3)\n",
    "    with col1:\n",
    "        st.subheader('categorical descriptive statistics')\n",
    "        st.dataframe(cat)\n",
    "        \n",
    "    with col3:\n",
    "        st.subheader('numerical descriptive statistics')\n",
    "        st.dataframe(num)\n",
    "with tab2:\n",
    "    year = st.sidebar.selectbox('select year',df['year'].unique())\n",
    "    vote = st.sidebar.selectbox('select vote',df['vote_average'].unique())\n",
    "    col1,col2,col3 = st.columns(3)\n",
    "    with col1:\n",
    "        new_df = df[df['year'] == year]\n",
    "        fig =  px.line(df, x='year', y='revenue', labels={'x': 'year', 'y': 'Revenue'})\n",
    "        st.plotly_chart(fig,use_container_width=True)\n",
    "        fig = px.bar(new_df, x ='revenue', y = 'year', color = 'vote_average',title = f'revenue for {year} year'.title())\n",
    "        st.plotly_chart(fig,use_container_width=True)\n",
    "        new_df1 = df[df['vote_average'] == vote]\n",
    "        fig = px.scatter(new_df1, x= 'runtime', y='budget', color = 'revenue', title = f'correlation between runtime and budget {vote}'.title())\n",
    "        st.plotly_chart(fig,use_container_width=True)\n",
    "        \n",
    "with tab3:\n",
    "    movie_name = st.sidebar.selectbox('select movie name',df['original_title'].unique())\n",
    "    genre_name = st.sidebar.selectbox('select genre name',df['genre_names'].unique())\n",
    "    col1,col2,col3 = st.columns(3)\n",
    "    with col1:\n",
    "        df_new2 = df[df['title'] == movie_name]\n",
    "        fig = px.scatter(df_new2, x='popularity', y='vote_average', hover_data=['title'])\n",
    "        st.plotly_chart(fig,use_container_width=True)\n",
    "        df_new3 = df[df['genre_names'] == genre_name]\n",
    "    with col3:\n",
    "        fig = px.bar(df_new3, x='genre_names', y='popularity')\n",
    "        st.plotly_chart(fig,use_container_width = True)\n"
   ]
  },
  {
   "cell_type": "code",
   "execution_count": null,
   "id": "1bd422c3-3667-4609-84c8-2d7d3a227604",
   "metadata": {},
   "outputs": [],
   "source": [
    "! streamlit run horror_movies1.py"
   ]
  },
  {
   "cell_type": "markdown",
   "id": "f66d6ffb-407b-4782-b1e0-637a191ced93",
   "metadata": {},
   "source": [
    "## Handle outliers"
   ]
  },
  {
   "cell_type": "code",
   "execution_count": null,
   "id": "823e1a37-a6f6-487e-8ab8-0f3788b131ed",
   "metadata": {},
   "outputs": [],
   "source": [
    "from datasist.structdata import detect_outliers\n",
    "index = detect_outliers(df,0,['popularity','vote_count','runtime','revenue','budget'])\n",
    "len(index)"
   ]
  },
  {
   "cell_type": "code",
   "execution_count": null,
   "id": "8c5d9c31-2619-4cdd-a874-e37ea741287f",
   "metadata": {},
   "outputs": [],
   "source": [
    "df.shape"
   ]
  },
  {
   "cell_type": "code",
   "execution_count": null,
   "id": "87e9b421-8b62-4f3f-b8dd-d02f1fdfadde",
   "metadata": {},
   "outputs": [],
   "source": [
    "df.drop(index,inplace=True)"
   ]
  },
  {
   "cell_type": "markdown",
   "id": "5fd7acf6-9873-48d0-8f94-967c7c8516c6",
   "metadata": {},
   "source": [
    "## working on recommendation system "
   ]
  },
  {
   "cell_type": "code",
   "execution_count": null,
   "id": "8adcc769-34aa-4aba-8234-737262d5d777",
   "metadata": {},
   "outputs": [],
   "source": [
    "from sklearn.metrics.pairwise import cosine_similarity"
   ]
  },
  {
   "cell_type": "code",
   "execution_count": null,
   "id": "679bb733-6894-4752-a28d-2e5e422b272b",
   "metadata": {},
   "outputs": [],
   "source": [
    "np.unique(df['original_language'])"
   ]
  },
  {
   "cell_type": "markdown",
   "id": "79537bf8-7243-428e-a7cb-4a6971011466",
   "metadata": {},
   "source": [
    "## choose only some portion of data"
   ]
  },
  {
   "cell_type": "code",
   "execution_count": null,
   "id": "a0483e33-64ad-44ef-8176-4c4f5a3d15bd",
   "metadata": {},
   "outputs": [],
   "source": [
    "df_2 = df.loc[(df['original_language'] == 'en') & (df['year']>2000)]\n",
    "len(df_2)"
   ]
  },
  {
   "cell_type": "code",
   "execution_count": null,
   "id": "36c731b0-e569-41fc-94d1-7533c897f00e",
   "metadata": {},
   "outputs": [],
   "source": [
    "df_3 = pd.DataFrame(df_2)\n",
    "df_3.tail()"
   ]
  },
  {
   "cell_type": "code",
   "execution_count": null,
   "id": "fcfc3d1e-81bb-4602-8171-0f6cdd7f3e8d",
   "metadata": {},
   "outputs": [],
   "source": [
    "final_data = df_3[['title','tagline']]\n",
    "final_data = final_data.set_index('title')"
   ]
  },
  {
   "cell_type": "code",
   "execution_count": null,
   "id": "f2489e72-1404-4162-935b-e7162667c421",
   "metadata": {},
   "outputs": [],
   "source": [
    "final_data.head(50)"
   ]
  },
  {
   "cell_type": "markdown",
   "id": "d608c6d9-2a95-427a-afc6-da1564832d09",
   "metadata": {},
   "source": [
    "## preprocess the data"
   ]
  },
  {
   "cell_type": "code",
   "execution_count": null,
   "id": "d61faf93-1f1e-4241-a9c0-b8a95aa2b378",
   "metadata": {},
   "outputs": [],
   "source": [
    "import nltk\n",
    "nltk.download('punkt')\n",
    "nltk.download('averaged_perceptron_tagger')\n",
    "nltk.download('wordnet')\n",
    "nltk.download('stopwords')\n",
    "from nltk.stem import WordNetLemmatizer\n",
    "from nltk.corpus import stopwords\n",
    "lemmatizer = WordNetLemmatizer()"
   ]
  },
  {
   "cell_type": "code",
   "execution_count": null,
   "id": "5482a5e1-3f77-48ac-953b-2c4d4e444656",
   "metadata": {},
   "outputs": [],
   "source": [
    "def preprocess_sentences(text):\n",
    "    text = text.lower()\n",
    "    words = nltk.word_tokenize(text)\n",
    "    my_sent = [lemmatizer.lemmatize(word) for word in words if word not in stopwords.words('english')]\n",
    "    final_sent = ' '.join(my_sent)\n",
    "    final_sent = final_sent.replace(\"n't\", \"not\")\n",
    "    final_sent = final_sent.replace(\"'m\", \"am\")\n",
    "    final_sent = final_sent.replace(\"'s\", \"is\")\n",
    "    final_sent = final_sent.replace(\"'re\", \"are\")\n",
    "    final_sent = final_sent.replace(\"'ll\", \"will\")\n",
    "    final_sent = final_sent.replace(\"'d\", \"would\")\n",
    "    final_sent = final_sent.replace(\"'ve\", \"have\")\n",
    "    return final_sent\n",
    "final_data['new_tagline'] = final_data['tagline'].apply(preprocess_sentences)\n",
    "final_data.head()\n"
   ]
  },
  {
   "cell_type": "markdown",
   "id": "245273a4-c301-472f-85e1-e2fd3dd0d2a5",
   "metadata": {},
   "source": [
    "## using TF-IDF to vectorize preprocessed movie tagline"
   ]
  },
  {
   "cell_type": "code",
   "execution_count": null,
   "id": "25a7b0cb-aa51-4574-9811-4a396a2276a0",
   "metadata": {},
   "outputs": [],
   "source": [
    "from sklearn.feature_extraction.text import TfidfVectorizer\n",
    "\n",
    "tfidf = TfidfVectorizer()\n",
    "tfidf_movie_id = tfidf.fit_transform((final_data[\"new_tagline\"]))\n",
    "\n",
    "# finding cosine similarity between vectors\n",
    "from sklearn.metrics.pairwise import cosine_similarity\n",
    "similarty = cosine_similarity(tfidf_movie_id, tfidf_movie_id)"
   ]
  },
  {
   "cell_type": "code",
   "execution_count": null,
   "id": "534b67a7-8b33-4a65-9419-44dbd507a0d2",
   "metadata": {},
   "outputs": [],
   "source": [
    "indices = pd.Series(final_data.index)\n",
    "\n",
    "def recommendation(title, cosine_sim = similarty):\n",
    "    try:\n",
    "        index = indices[indices == title].index[0]\n",
    "        similarity_scores = pd.Series(cosine_sim[index]).sort_values(ascending = False)\n",
    "        top_10_movies = list(similarity_scores.iloc[1:11].index)\n",
    "        recommended_movies = [list(final_data.index)[i] for i in top_10_movies]\n",
    "        return recommended_movies\n",
    "    except:\n",
    "        print(\"No movie name found\")"
   ]
  },
  {
   "cell_type": "code",
   "execution_count": null,
   "id": "1e629bef-3e97-489e-8fc1-99292f7784e7",
   "metadata": {},
   "outputs": [],
   "source": [
    "recommendation('The Revenge of Robert')"
   ]
  },
  {
   "cell_type": "code",
   "execution_count": null,
   "id": "6e422ac7-c7c4-4816-a7b7-8a110752c10e",
   "metadata": {},
   "outputs": [],
   "source": []
  }
 ],
 "metadata": {
  "kernelspec": {
   "display_name": "Python 3 (ipykernel)",
   "language": "python",
   "name": "python3"
  },
  "language_info": {
   "codemirror_mode": {
    "name": "ipython",
    "version": 3
   },
   "file_extension": ".py",
   "mimetype": "text/x-python",
   "name": "python",
   "nbconvert_exporter": "python",
   "pygments_lexer": "ipython3",
   "version": "3.11.5"
  }
 },
 "nbformat": 4,
 "nbformat_minor": 5
}
