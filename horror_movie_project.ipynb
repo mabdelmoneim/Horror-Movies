{
 "cells": [
  {
   "cell_type": "code",
   "execution_count": 1,
   "id": "c9eb085d-eacd-4bec-989f-6f9ed491e866",
   "metadata": {},
   "outputs": [],
   "source": [
    "import pandas as pd\n",
    "import numpy as np \n",
    "import seaborn as sns \n",
    "import plotly.express as px \n",
    "import matplotlib.pyplot as plt \n",
    "%matplotlib inline"
   ]
  },
  {
   "cell_type": "code",
   "execution_count": 2,
   "id": "09fa351f-4cec-4d8d-a7c2-14d94fec9a6f",
   "metadata": {},
   "outputs": [
    {
     "data": {
      "text/html": [
       "<div>\n",
       "<style scoped>\n",
       "    .dataframe tbody tr th:only-of-type {\n",
       "        vertical-align: middle;\n",
       "    }\n",
       "\n",
       "    .dataframe tbody tr th {\n",
       "        vertical-align: top;\n",
       "    }\n",
       "\n",
       "    .dataframe thead th {\n",
       "        text-align: right;\n",
       "    }\n",
       "</style>\n",
       "<table border=\"1\" class=\"dataframe\">\n",
       "  <thead>\n",
       "    <tr style=\"text-align: right;\">\n",
       "      <th></th>\n",
       "      <th>id</th>\n",
       "      <th>original_title</th>\n",
       "      <th>title</th>\n",
       "      <th>original_language</th>\n",
       "      <th>overview</th>\n",
       "      <th>tagline</th>\n",
       "      <th>release_date</th>\n",
       "      <th>poster_path</th>\n",
       "      <th>popularity</th>\n",
       "      <th>vote_count</th>\n",
       "      <th>vote_average</th>\n",
       "      <th>budget</th>\n",
       "      <th>revenue</th>\n",
       "      <th>runtime</th>\n",
       "      <th>status</th>\n",
       "      <th>adult</th>\n",
       "      <th>backdrop_path</th>\n",
       "      <th>genre_names</th>\n",
       "      <th>collection</th>\n",
       "      <th>collection_name</th>\n",
       "    </tr>\n",
       "  </thead>\n",
       "  <tbody>\n",
       "    <tr>\n",
       "      <th>0</th>\n",
       "      <td>760161</td>\n",
       "      <td>Orphan: First Kill</td>\n",
       "      <td>Orphan: First Kill</td>\n",
       "      <td>en</td>\n",
       "      <td>After escaping from an Estonian psychiatric fa...</td>\n",
       "      <td>There's always been something wrong with Esther.</td>\n",
       "      <td>2022-07-27</td>\n",
       "      <td>/pHkKbIRoCe7zIFvqan9LFSaQAde.jpg</td>\n",
       "      <td>5088.584</td>\n",
       "      <td>902</td>\n",
       "      <td>6.9</td>\n",
       "      <td>0</td>\n",
       "      <td>9572765</td>\n",
       "      <td>99</td>\n",
       "      <td>Released</td>\n",
       "      <td>False</td>\n",
       "      <td>/5GA3vV1aWWHTSDO5eno8V5zDo8r.jpg</td>\n",
       "      <td>Horror, Thriller</td>\n",
       "      <td>760193.0</td>\n",
       "      <td>Orphan Collection</td>\n",
       "    </tr>\n",
       "    <tr>\n",
       "      <th>1</th>\n",
       "      <td>760741</td>\n",
       "      <td>Beast</td>\n",
       "      <td>Beast</td>\n",
       "      <td>en</td>\n",
       "      <td>A recently widowed man and his two teenage dau...</td>\n",
       "      <td>Fight for family.</td>\n",
       "      <td>2022-08-11</td>\n",
       "      <td>/xIGr7UHsKf0URWmyyd5qFMAq4d8.jpg</td>\n",
       "      <td>2172.338</td>\n",
       "      <td>584</td>\n",
       "      <td>7.1</td>\n",
       "      <td>0</td>\n",
       "      <td>56000000</td>\n",
       "      <td>93</td>\n",
       "      <td>Released</td>\n",
       "      <td>False</td>\n",
       "      <td>/2k9tBql5GYH328Krj66tDT9LtFZ.jpg</td>\n",
       "      <td>Adventure, Drama, Horror</td>\n",
       "      <td>NaN</td>\n",
       "      <td>NaN</td>\n",
       "    </tr>\n",
       "    <tr>\n",
       "      <th>2</th>\n",
       "      <td>882598</td>\n",
       "      <td>Smile</td>\n",
       "      <td>Smile</td>\n",
       "      <td>en</td>\n",
       "      <td>After witnessing a bizarre, traumatic incident...</td>\n",
       "      <td>Once you see it, it’s too late.</td>\n",
       "      <td>2022-09-23</td>\n",
       "      <td>/hiaeZKzwsk4y4atFhmncO5KRxeT.jpg</td>\n",
       "      <td>1863.628</td>\n",
       "      <td>114</td>\n",
       "      <td>6.8</td>\n",
       "      <td>17000000</td>\n",
       "      <td>45000000</td>\n",
       "      <td>115</td>\n",
       "      <td>Released</td>\n",
       "      <td>False</td>\n",
       "      <td>/mVNPfpydornVe4H4UCIk7WevWjf.jpg</td>\n",
       "      <td>Horror, Mystery, Thriller</td>\n",
       "      <td>NaN</td>\n",
       "      <td>NaN</td>\n",
       "    </tr>\n",
       "    <tr>\n",
       "      <th>3</th>\n",
       "      <td>756999</td>\n",
       "      <td>The Black Phone</td>\n",
       "      <td>The Black Phone</td>\n",
       "      <td>en</td>\n",
       "      <td>Finney Blake, a shy but clever 13-year-old boy...</td>\n",
       "      <td>Never talk to strangers.</td>\n",
       "      <td>2022-06-22</td>\n",
       "      <td>/lr11mCT85T1JanlgjMuhs9nMht4.jpg</td>\n",
       "      <td>1071.398</td>\n",
       "      <td>2736</td>\n",
       "      <td>7.9</td>\n",
       "      <td>18800000</td>\n",
       "      <td>161000000</td>\n",
       "      <td>103</td>\n",
       "      <td>Released</td>\n",
       "      <td>False</td>\n",
       "      <td>/AfvIjhDu9p64jKcmohS4hsPG95Q.jpg</td>\n",
       "      <td>Horror, Thriller</td>\n",
       "      <td>NaN</td>\n",
       "      <td>NaN</td>\n",
       "    </tr>\n",
       "    <tr>\n",
       "      <th>4</th>\n",
       "      <td>772450</td>\n",
       "      <td>Presencias</td>\n",
       "      <td>Presences</td>\n",
       "      <td>es</td>\n",
       "      <td>A man who loses his wife and goes to seclude h...</td>\n",
       "      <td>NaN</td>\n",
       "      <td>2022-09-07</td>\n",
       "      <td>/dgDT3uol3mdvwEg0jt1ble3l9hw.jpg</td>\n",
       "      <td>1020.995</td>\n",
       "      <td>83</td>\n",
       "      <td>7.0</td>\n",
       "      <td>0</td>\n",
       "      <td>0</td>\n",
       "      <td>0</td>\n",
       "      <td>Released</td>\n",
       "      <td>False</td>\n",
       "      <td>/ojfzhdwRemcDt1I6pao6vVLw9AA.jpg</td>\n",
       "      <td>Horror</td>\n",
       "      <td>NaN</td>\n",
       "      <td>NaN</td>\n",
       "    </tr>\n",
       "  </tbody>\n",
       "</table>\n",
       "</div>"
      ],
      "text/plain": [
       "       id      original_title               title original_language  \\\n",
       "0  760161  Orphan: First Kill  Orphan: First Kill                en   \n",
       "1  760741               Beast               Beast                en   \n",
       "2  882598               Smile               Smile                en   \n",
       "3  756999     The Black Phone     The Black Phone                en   \n",
       "4  772450          Presencias           Presences                es   \n",
       "\n",
       "                                            overview  \\\n",
       "0  After escaping from an Estonian psychiatric fa...   \n",
       "1  A recently widowed man and his two teenage dau...   \n",
       "2  After witnessing a bizarre, traumatic incident...   \n",
       "3  Finney Blake, a shy but clever 13-year-old boy...   \n",
       "4  A man who loses his wife and goes to seclude h...   \n",
       "\n",
       "                                            tagline release_date  \\\n",
       "0  There's always been something wrong with Esther.   2022-07-27   \n",
       "1                                 Fight for family.   2022-08-11   \n",
       "2                   Once you see it, it’s too late.   2022-09-23   \n",
       "3                          Never talk to strangers.   2022-06-22   \n",
       "4                                               NaN   2022-09-07   \n",
       "\n",
       "                        poster_path  popularity  vote_count  vote_average  \\\n",
       "0  /pHkKbIRoCe7zIFvqan9LFSaQAde.jpg    5088.584         902           6.9   \n",
       "1  /xIGr7UHsKf0URWmyyd5qFMAq4d8.jpg    2172.338         584           7.1   \n",
       "2  /hiaeZKzwsk4y4atFhmncO5KRxeT.jpg    1863.628         114           6.8   \n",
       "3  /lr11mCT85T1JanlgjMuhs9nMht4.jpg    1071.398        2736           7.9   \n",
       "4  /dgDT3uol3mdvwEg0jt1ble3l9hw.jpg    1020.995          83           7.0   \n",
       "\n",
       "     budget    revenue  runtime    status  adult  \\\n",
       "0         0    9572765       99  Released  False   \n",
       "1         0   56000000       93  Released  False   \n",
       "2  17000000   45000000      115  Released  False   \n",
       "3  18800000  161000000      103  Released  False   \n",
       "4         0          0        0  Released  False   \n",
       "\n",
       "                      backdrop_path                genre_names  collection  \\\n",
       "0  /5GA3vV1aWWHTSDO5eno8V5zDo8r.jpg           Horror, Thriller    760193.0   \n",
       "1  /2k9tBql5GYH328Krj66tDT9LtFZ.jpg   Adventure, Drama, Horror         NaN   \n",
       "2  /mVNPfpydornVe4H4UCIk7WevWjf.jpg  Horror, Mystery, Thriller         NaN   \n",
       "3  /AfvIjhDu9p64jKcmohS4hsPG95Q.jpg           Horror, Thriller         NaN   \n",
       "4  /ojfzhdwRemcDt1I6pao6vVLw9AA.jpg                     Horror         NaN   \n",
       "\n",
       "     collection_name  \n",
       "0  Orphan Collection  \n",
       "1                NaN  \n",
       "2                NaN  \n",
       "3                NaN  \n",
       "4                NaN  "
      ]
     },
     "execution_count": 2,
     "metadata": {},
     "output_type": "execute_result"
    }
   ],
   "source": [
    "df = pd.read_csv('D:\\epsilon course\\datasets\\horror_movies.csv')\n",
    "df.head()"
   ]
  },
  {
   "cell_type": "code",
   "execution_count": 3,
   "id": "46ec174e-169e-4196-84e1-22e79ec85632",
   "metadata": {},
   "outputs": [
    {
     "name": "stdout",
     "output_type": "stream",
     "text": [
      "<class 'pandas.core.frame.DataFrame'>\n",
      "RangeIndex: 32540 entries, 0 to 32539\n",
      "Data columns (total 20 columns):\n",
      " #   Column             Non-Null Count  Dtype  \n",
      "---  ------             --------------  -----  \n",
      " 0   id                 32540 non-null  int64  \n",
      " 1   original_title     32540 non-null  object \n",
      " 2   title              32540 non-null  object \n",
      " 3   original_language  32540 non-null  object \n",
      " 4   overview           31254 non-null  object \n",
      " 5   tagline            12706 non-null  object \n",
      " 6   release_date       32540 non-null  object \n",
      " 7   poster_path        28066 non-null  object \n",
      " 8   popularity         32540 non-null  float64\n",
      " 9   vote_count         32540 non-null  int64  \n",
      " 10  vote_average       32540 non-null  float64\n",
      " 11  budget             32540 non-null  int64  \n",
      " 12  revenue            32540 non-null  int64  \n",
      " 13  runtime            32540 non-null  int64  \n",
      " 14  status             32540 non-null  object \n",
      " 15  adult              32540 non-null  bool   \n",
      " 16  backdrop_path      13545 non-null  object \n",
      " 17  genre_names        32540 non-null  object \n",
      " 18  collection         2306 non-null   float64\n",
      " 19  collection_name    2306 non-null   object \n",
      "dtypes: bool(1), float64(3), int64(5), object(11)\n",
      "memory usage: 4.7+ MB\n"
     ]
    }
   ],
   "source": [
    "df.info()"
   ]
  },
  {
   "cell_type": "code",
   "execution_count": 4,
   "id": "bee196cf-9f6d-4955-a81f-352263058642",
   "metadata": {},
   "outputs": [
    {
     "data": {
      "text/html": [
       "<div>\n",
       "<style scoped>\n",
       "    .dataframe tbody tr th:only-of-type {\n",
       "        vertical-align: middle;\n",
       "    }\n",
       "\n",
       "    .dataframe tbody tr th {\n",
       "        vertical-align: top;\n",
       "    }\n",
       "\n",
       "    .dataframe thead th {\n",
       "        text-align: right;\n",
       "    }\n",
       "</style>\n",
       "<table border=\"1\" class=\"dataframe\">\n",
       "  <thead>\n",
       "    <tr style=\"text-align: right;\">\n",
       "      <th></th>\n",
       "      <th>id</th>\n",
       "      <th>popularity</th>\n",
       "      <th>vote_count</th>\n",
       "      <th>vote_average</th>\n",
       "      <th>budget</th>\n",
       "      <th>revenue</th>\n",
       "      <th>runtime</th>\n",
       "      <th>collection</th>\n",
       "    </tr>\n",
       "  </thead>\n",
       "  <tbody>\n",
       "    <tr>\n",
       "      <th>count</th>\n",
       "      <td>32540.0</td>\n",
       "      <td>32540.0</td>\n",
       "      <td>32540.0</td>\n",
       "      <td>32540.0</td>\n",
       "      <td>32540.0</td>\n",
       "      <td>32540.0</td>\n",
       "      <td>32540.0</td>\n",
       "      <td>2306.0</td>\n",
       "    </tr>\n",
       "    <tr>\n",
       "      <th>mean</th>\n",
       "      <td>445911.0</td>\n",
       "      <td>4.0</td>\n",
       "      <td>63.0</td>\n",
       "      <td>3.0</td>\n",
       "      <td>543127.0</td>\n",
       "      <td>1349747.0</td>\n",
       "      <td>62.0</td>\n",
       "      <td>481535.0</td>\n",
       "    </tr>\n",
       "    <tr>\n",
       "      <th>std</th>\n",
       "      <td>305745.0</td>\n",
       "      <td>38.0</td>\n",
       "      <td>421.0</td>\n",
       "      <td>3.0</td>\n",
       "      <td>4542668.0</td>\n",
       "      <td>14430479.0</td>\n",
       "      <td>41.0</td>\n",
       "      <td>324498.0</td>\n",
       "    </tr>\n",
       "    <tr>\n",
       "      <th>min</th>\n",
       "      <td>17.0</td>\n",
       "      <td>0.0</td>\n",
       "      <td>0.0</td>\n",
       "      <td>0.0</td>\n",
       "      <td>0.0</td>\n",
       "      <td>0.0</td>\n",
       "      <td>0.0</td>\n",
       "      <td>656.0</td>\n",
       "    </tr>\n",
       "    <tr>\n",
       "      <th>25%</th>\n",
       "      <td>146495.0</td>\n",
       "      <td>1.0</td>\n",
       "      <td>0.0</td>\n",
       "      <td>0.0</td>\n",
       "      <td>0.0</td>\n",
       "      <td>0.0</td>\n",
       "      <td>14.0</td>\n",
       "      <td>155421.0</td>\n",
       "    </tr>\n",
       "    <tr>\n",
       "      <th>50%</th>\n",
       "      <td>426521.0</td>\n",
       "      <td>1.0</td>\n",
       "      <td>2.0</td>\n",
       "      <td>4.0</td>\n",
       "      <td>0.0</td>\n",
       "      <td>0.0</td>\n",
       "      <td>80.0</td>\n",
       "      <td>471259.0</td>\n",
       "    </tr>\n",
       "    <tr>\n",
       "      <th>75%</th>\n",
       "      <td>707534.0</td>\n",
       "      <td>2.0</td>\n",
       "      <td>11.0</td>\n",
       "      <td>6.0</td>\n",
       "      <td>0.0</td>\n",
       "      <td>0.0</td>\n",
       "      <td>91.0</td>\n",
       "      <td>759067.0</td>\n",
       "    </tr>\n",
       "    <tr>\n",
       "      <th>max</th>\n",
       "      <td>1033095.0</td>\n",
       "      <td>5089.0</td>\n",
       "      <td>16900.0</td>\n",
       "      <td>10.0</td>\n",
       "      <td>200000000.0</td>\n",
       "      <td>701842551.0</td>\n",
       "      <td>683.0</td>\n",
       "      <td>1033032.0</td>\n",
       "    </tr>\n",
       "  </tbody>\n",
       "</table>\n",
       "</div>"
      ],
      "text/plain": [
       "              id  popularity  vote_count  vote_average       budget  \\\n",
       "count    32540.0     32540.0     32540.0       32540.0      32540.0   \n",
       "mean    445911.0         4.0        63.0           3.0     543127.0   \n",
       "std     305745.0        38.0       421.0           3.0    4542668.0   \n",
       "min         17.0         0.0         0.0           0.0          0.0   \n",
       "25%     146495.0         1.0         0.0           0.0          0.0   \n",
       "50%     426521.0         1.0         2.0           4.0          0.0   \n",
       "75%     707534.0         2.0        11.0           6.0          0.0   \n",
       "max    1033095.0      5089.0     16900.0          10.0  200000000.0   \n",
       "\n",
       "           revenue  runtime  collection  \n",
       "count      32540.0  32540.0      2306.0  \n",
       "mean     1349747.0     62.0    481535.0  \n",
       "std     14430479.0     41.0    324498.0  \n",
       "min            0.0      0.0       656.0  \n",
       "25%            0.0     14.0    155421.0  \n",
       "50%            0.0     80.0    471259.0  \n",
       "75%            0.0     91.0    759067.0  \n",
       "max    701842551.0    683.0   1033032.0  "
      ]
     },
     "execution_count": 4,
     "metadata": {},
     "output_type": "execute_result"
    }
   ],
   "source": [
    "round(df.describe())"
   ]
  },
  {
   "cell_type": "code",
   "execution_count": 5,
   "id": "4658c9b3-7571-4d65-85ca-a2c6cff7f148",
   "metadata": {},
   "outputs": [
    {
     "data": {
      "text/html": [
       "<div>\n",
       "<style scoped>\n",
       "    .dataframe tbody tr th:only-of-type {\n",
       "        vertical-align: middle;\n",
       "    }\n",
       "\n",
       "    .dataframe tbody tr th {\n",
       "        vertical-align: top;\n",
       "    }\n",
       "\n",
       "    .dataframe thead th {\n",
       "        text-align: right;\n",
       "    }\n",
       "</style>\n",
       "<table border=\"1\" class=\"dataframe\">\n",
       "  <thead>\n",
       "    <tr style=\"text-align: right;\">\n",
       "      <th></th>\n",
       "      <th>id</th>\n",
       "      <th>original_title</th>\n",
       "      <th>title</th>\n",
       "      <th>original_language</th>\n",
       "      <th>overview</th>\n",
       "      <th>tagline</th>\n",
       "      <th>release_date</th>\n",
       "      <th>poster_path</th>\n",
       "      <th>popularity</th>\n",
       "      <th>vote_count</th>\n",
       "      <th>vote_average</th>\n",
       "      <th>budget</th>\n",
       "      <th>revenue</th>\n",
       "      <th>runtime</th>\n",
       "      <th>status</th>\n",
       "      <th>adult</th>\n",
       "      <th>backdrop_path</th>\n",
       "      <th>genre_names</th>\n",
       "      <th>collection</th>\n",
       "      <th>collection_name</th>\n",
       "    </tr>\n",
       "  </thead>\n",
       "  <tbody>\n",
       "    <tr>\n",
       "      <th>0</th>\n",
       "      <td>760161</td>\n",
       "      <td>Orphan: First Kill</td>\n",
       "      <td>Orphan: First Kill</td>\n",
       "      <td>en</td>\n",
       "      <td>After escaping from an Estonian psychiatric fa...</td>\n",
       "      <td>There's always been something wrong with Esther.</td>\n",
       "      <td>2022-07-27</td>\n",
       "      <td>/pHkKbIRoCe7zIFvqan9LFSaQAde.jpg</td>\n",
       "      <td>5088.584</td>\n",
       "      <td>902</td>\n",
       "      <td>6.9</td>\n",
       "      <td>0</td>\n",
       "      <td>9572765</td>\n",
       "      <td>99</td>\n",
       "      <td>Released</td>\n",
       "      <td>False</td>\n",
       "      <td>/5GA3vV1aWWHTSDO5eno8V5zDo8r.jpg</td>\n",
       "      <td>Horror, Thriller</td>\n",
       "      <td>760193.0</td>\n",
       "      <td>Orphan Collection</td>\n",
       "    </tr>\n",
       "    <tr>\n",
       "      <th>1</th>\n",
       "      <td>760741</td>\n",
       "      <td>Beast</td>\n",
       "      <td>Beast</td>\n",
       "      <td>en</td>\n",
       "      <td>A recently widowed man and his two teenage dau...</td>\n",
       "      <td>Fight for family.</td>\n",
       "      <td>2022-08-11</td>\n",
       "      <td>/xIGr7UHsKf0URWmyyd5qFMAq4d8.jpg</td>\n",
       "      <td>2172.338</td>\n",
       "      <td>584</td>\n",
       "      <td>7.1</td>\n",
       "      <td>0</td>\n",
       "      <td>56000000</td>\n",
       "      <td>93</td>\n",
       "      <td>Released</td>\n",
       "      <td>False</td>\n",
       "      <td>/2k9tBql5GYH328Krj66tDT9LtFZ.jpg</td>\n",
       "      <td>Adventure, Drama, Horror</td>\n",
       "      <td>NaN</td>\n",
       "      <td>NaN</td>\n",
       "    </tr>\n",
       "    <tr>\n",
       "      <th>2</th>\n",
       "      <td>882598</td>\n",
       "      <td>Smile</td>\n",
       "      <td>Smile</td>\n",
       "      <td>en</td>\n",
       "      <td>After witnessing a bizarre, traumatic incident...</td>\n",
       "      <td>Once you see it, it’s too late.</td>\n",
       "      <td>2022-09-23</td>\n",
       "      <td>/hiaeZKzwsk4y4atFhmncO5KRxeT.jpg</td>\n",
       "      <td>1863.628</td>\n",
       "      <td>114</td>\n",
       "      <td>6.8</td>\n",
       "      <td>17000000</td>\n",
       "      <td>45000000</td>\n",
       "      <td>115</td>\n",
       "      <td>Released</td>\n",
       "      <td>False</td>\n",
       "      <td>/mVNPfpydornVe4H4UCIk7WevWjf.jpg</td>\n",
       "      <td>Horror, Mystery, Thriller</td>\n",
       "      <td>NaN</td>\n",
       "      <td>NaN</td>\n",
       "    </tr>\n",
       "    <tr>\n",
       "      <th>3</th>\n",
       "      <td>756999</td>\n",
       "      <td>The Black Phone</td>\n",
       "      <td>The Black Phone</td>\n",
       "      <td>en</td>\n",
       "      <td>Finney Blake, a shy but clever 13-year-old boy...</td>\n",
       "      <td>Never talk to strangers.</td>\n",
       "      <td>2022-06-22</td>\n",
       "      <td>/lr11mCT85T1JanlgjMuhs9nMht4.jpg</td>\n",
       "      <td>1071.398</td>\n",
       "      <td>2736</td>\n",
       "      <td>7.9</td>\n",
       "      <td>18800000</td>\n",
       "      <td>161000000</td>\n",
       "      <td>103</td>\n",
       "      <td>Released</td>\n",
       "      <td>False</td>\n",
       "      <td>/AfvIjhDu9p64jKcmohS4hsPG95Q.jpg</td>\n",
       "      <td>Horror, Thriller</td>\n",
       "      <td>NaN</td>\n",
       "      <td>NaN</td>\n",
       "    </tr>\n",
       "    <tr>\n",
       "      <th>4</th>\n",
       "      <td>772450</td>\n",
       "      <td>Presencias</td>\n",
       "      <td>Presences</td>\n",
       "      <td>es</td>\n",
       "      <td>A man who loses his wife and goes to seclude h...</td>\n",
       "      <td>NaN</td>\n",
       "      <td>2022-09-07</td>\n",
       "      <td>/dgDT3uol3mdvwEg0jt1ble3l9hw.jpg</td>\n",
       "      <td>1020.995</td>\n",
       "      <td>83</td>\n",
       "      <td>7.0</td>\n",
       "      <td>0</td>\n",
       "      <td>0</td>\n",
       "      <td>0</td>\n",
       "      <td>Released</td>\n",
       "      <td>False</td>\n",
       "      <td>/ojfzhdwRemcDt1I6pao6vVLw9AA.jpg</td>\n",
       "      <td>Horror</td>\n",
       "      <td>NaN</td>\n",
       "      <td>NaN</td>\n",
       "    </tr>\n",
       "    <tr>\n",
       "      <th>...</th>\n",
       "      <td>...</td>\n",
       "      <td>...</td>\n",
       "      <td>...</td>\n",
       "      <td>...</td>\n",
       "      <td>...</td>\n",
       "      <td>...</td>\n",
       "      <td>...</td>\n",
       "      <td>...</td>\n",
       "      <td>...</td>\n",
       "      <td>...</td>\n",
       "      <td>...</td>\n",
       "      <td>...</td>\n",
       "      <td>...</td>\n",
       "      <td>...</td>\n",
       "      <td>...</td>\n",
       "      <td>...</td>\n",
       "      <td>...</td>\n",
       "      <td>...</td>\n",
       "      <td>...</td>\n",
       "      <td>...</td>\n",
       "    </tr>\n",
       "    <tr>\n",
       "      <th>32535</th>\n",
       "      <td>1032201</td>\n",
       "      <td>Catch a Butcher</td>\n",
       "      <td>Catch a Butcher</td>\n",
       "      <td>en</td>\n",
       "      <td>In a maternity ward in nineteenth-century Indi...</td>\n",
       "      <td>NaN</td>\n",
       "      <td>2021-11-20</td>\n",
       "      <td>/4LHrYpe6bjiT8Wvkzl3269LIUZl.jpg</td>\n",
       "      <td>0.600</td>\n",
       "      <td>0</td>\n",
       "      <td>0.0</td>\n",
       "      <td>0</td>\n",
       "      <td>0</td>\n",
       "      <td>11</td>\n",
       "      <td>Released</td>\n",
       "      <td>False</td>\n",
       "      <td>NaN</td>\n",
       "      <td>Horror</td>\n",
       "      <td>NaN</td>\n",
       "      <td>NaN</td>\n",
       "    </tr>\n",
       "    <tr>\n",
       "      <th>32536</th>\n",
       "      <td>1032667</td>\n",
       "      <td>Shaye Saint John: The Triggers Compilation</td>\n",
       "      <td>Shaye Saint John: The Triggers Compilation</td>\n",
       "      <td>en</td>\n",
       "      <td>A bizarre mix of early Tod Hayne's and Phyllis...</td>\n",
       "      <td>\"Just keep in mind, that you'll be trying to s...</td>\n",
       "      <td>2006-10-30</td>\n",
       "      <td>/j1vWwxnTsoKjZFwJODiNHNS8GFK.jpg</td>\n",
       "      <td>0.600</td>\n",
       "      <td>0</td>\n",
       "      <td>0.0</td>\n",
       "      <td>0</td>\n",
       "      <td>0</td>\n",
       "      <td>92</td>\n",
       "      <td>Released</td>\n",
       "      <td>False</td>\n",
       "      <td>NaN</td>\n",
       "      <td>Fantasy, Horror</td>\n",
       "      <td>NaN</td>\n",
       "      <td>NaN</td>\n",
       "    </tr>\n",
       "    <tr>\n",
       "      <th>32537</th>\n",
       "      <td>1032890</td>\n",
       "      <td>Welcome to the Occult Forest</td>\n",
       "      <td>Welcome to the Occult Forest</td>\n",
       "      <td>en</td>\n",
       "      <td>A washed up horror film director named Kôji Ku...</td>\n",
       "      <td>Murders, crimes, laughter, psychics, superhero...</td>\n",
       "      <td>2022-07-22</td>\n",
       "      <td>/ngFyxdliPZrG3Qra7tW3LbWksFd.jpg</td>\n",
       "      <td>0.600</td>\n",
       "      <td>0</td>\n",
       "      <td>0.0</td>\n",
       "      <td>0</td>\n",
       "      <td>0</td>\n",
       "      <td>141</td>\n",
       "      <td>Released</td>\n",
       "      <td>False</td>\n",
       "      <td>/s8Kpai084gCgQlsT3bpaEYuJmDc.jpg</td>\n",
       "      <td>Comedy, Drama, Horror</td>\n",
       "      <td>NaN</td>\n",
       "      <td>NaN</td>\n",
       "    </tr>\n",
       "    <tr>\n",
       "      <th>32538</th>\n",
       "      <td>1033052</td>\n",
       "      <td>The Mean One</td>\n",
       "      <td>The Mean One</td>\n",
       "      <td>en</td>\n",
       "      <td>The Mean One is a hairy, green-skinned grump i...</td>\n",
       "      <td>NaN</td>\n",
       "      <td>2022-12-15</td>\n",
       "      <td>NaN</td>\n",
       "      <td>0.000</td>\n",
       "      <td>0</td>\n",
       "      <td>0.0</td>\n",
       "      <td>0</td>\n",
       "      <td>0</td>\n",
       "      <td>0</td>\n",
       "      <td>Post Production</td>\n",
       "      <td>False</td>\n",
       "      <td>NaN</td>\n",
       "      <td>Horror</td>\n",
       "      <td>NaN</td>\n",
       "      <td>NaN</td>\n",
       "    </tr>\n",
       "    <tr>\n",
       "      <th>32539</th>\n",
       "      <td>1033095</td>\n",
       "      <td>Secret Formula</td>\n",
       "      <td>Secret Formula</td>\n",
       "      <td>en</td>\n",
       "      <td>NaN</td>\n",
       "      <td>NaN</td>\n",
       "      <td>2020-12-06</td>\n",
       "      <td>/5GTTNqHwXfqqnBPrZAv0DVoWfjr.jpg</td>\n",
       "      <td>0.000</td>\n",
       "      <td>0</td>\n",
       "      <td>0.0</td>\n",
       "      <td>0</td>\n",
       "      <td>0</td>\n",
       "      <td>0</td>\n",
       "      <td>Released</td>\n",
       "      <td>False</td>\n",
       "      <td>NaN</td>\n",
       "      <td>Animation, Horror</td>\n",
       "      <td>NaN</td>\n",
       "      <td>NaN</td>\n",
       "    </tr>\n",
       "  </tbody>\n",
       "</table>\n",
       "<p>32540 rows × 20 columns</p>\n",
       "</div>"
      ],
      "text/plain": [
       "            id                              original_title  \\\n",
       "0       760161                          Orphan: First Kill   \n",
       "1       760741                                       Beast   \n",
       "2       882598                                       Smile   \n",
       "3       756999                             The Black Phone   \n",
       "4       772450                                  Presencias   \n",
       "...        ...                                         ...   \n",
       "32535  1032201                             Catch a Butcher   \n",
       "32536  1032667  Shaye Saint John: The Triggers Compilation   \n",
       "32537  1032890                Welcome to the Occult Forest   \n",
       "32538  1033052                                The Mean One   \n",
       "32539  1033095                              Secret Formula   \n",
       "\n",
       "                                            title original_language  \\\n",
       "0                              Orphan: First Kill                en   \n",
       "1                                           Beast                en   \n",
       "2                                           Smile                en   \n",
       "3                                 The Black Phone                en   \n",
       "4                                       Presences                es   \n",
       "...                                           ...               ...   \n",
       "32535                             Catch a Butcher                en   \n",
       "32536  Shaye Saint John: The Triggers Compilation                en   \n",
       "32537                Welcome to the Occult Forest                en   \n",
       "32538                                The Mean One                en   \n",
       "32539                              Secret Formula                en   \n",
       "\n",
       "                                                overview  \\\n",
       "0      After escaping from an Estonian psychiatric fa...   \n",
       "1      A recently widowed man and his two teenage dau...   \n",
       "2      After witnessing a bizarre, traumatic incident...   \n",
       "3      Finney Blake, a shy but clever 13-year-old boy...   \n",
       "4      A man who loses his wife and goes to seclude h...   \n",
       "...                                                  ...   \n",
       "32535  In a maternity ward in nineteenth-century Indi...   \n",
       "32536  A bizarre mix of early Tod Hayne's and Phyllis...   \n",
       "32537  A washed up horror film director named Kôji Ku...   \n",
       "32538  The Mean One is a hairy, green-skinned grump i...   \n",
       "32539                                                NaN   \n",
       "\n",
       "                                                 tagline release_date  \\\n",
       "0       There's always been something wrong with Esther.   2022-07-27   \n",
       "1                                      Fight for family.   2022-08-11   \n",
       "2                        Once you see it, it’s too late.   2022-09-23   \n",
       "3                               Never talk to strangers.   2022-06-22   \n",
       "4                                                    NaN   2022-09-07   \n",
       "...                                                  ...          ...   \n",
       "32535                                                NaN   2021-11-20   \n",
       "32536  \"Just keep in mind, that you'll be trying to s...   2006-10-30   \n",
       "32537  Murders, crimes, laughter, psychics, superhero...   2022-07-22   \n",
       "32538                                                NaN   2022-12-15   \n",
       "32539                                                NaN   2020-12-06   \n",
       "\n",
       "                            poster_path  popularity  vote_count  vote_average  \\\n",
       "0      /pHkKbIRoCe7zIFvqan9LFSaQAde.jpg    5088.584         902           6.9   \n",
       "1      /xIGr7UHsKf0URWmyyd5qFMAq4d8.jpg    2172.338         584           7.1   \n",
       "2      /hiaeZKzwsk4y4atFhmncO5KRxeT.jpg    1863.628         114           6.8   \n",
       "3      /lr11mCT85T1JanlgjMuhs9nMht4.jpg    1071.398        2736           7.9   \n",
       "4      /dgDT3uol3mdvwEg0jt1ble3l9hw.jpg    1020.995          83           7.0   \n",
       "...                                 ...         ...         ...           ...   \n",
       "32535  /4LHrYpe6bjiT8Wvkzl3269LIUZl.jpg       0.600           0           0.0   \n",
       "32536  /j1vWwxnTsoKjZFwJODiNHNS8GFK.jpg       0.600           0           0.0   \n",
       "32537  /ngFyxdliPZrG3Qra7tW3LbWksFd.jpg       0.600           0           0.0   \n",
       "32538                               NaN       0.000           0           0.0   \n",
       "32539  /5GTTNqHwXfqqnBPrZAv0DVoWfjr.jpg       0.000           0           0.0   \n",
       "\n",
       "         budget    revenue  runtime           status  adult  \\\n",
       "0             0    9572765       99         Released  False   \n",
       "1             0   56000000       93         Released  False   \n",
       "2      17000000   45000000      115         Released  False   \n",
       "3      18800000  161000000      103         Released  False   \n",
       "4             0          0        0         Released  False   \n",
       "...         ...        ...      ...              ...    ...   \n",
       "32535         0          0       11         Released  False   \n",
       "32536         0          0       92         Released  False   \n",
       "32537         0          0      141         Released  False   \n",
       "32538         0          0        0  Post Production  False   \n",
       "32539         0          0        0         Released  False   \n",
       "\n",
       "                          backdrop_path                genre_names  \\\n",
       "0      /5GA3vV1aWWHTSDO5eno8V5zDo8r.jpg           Horror, Thriller   \n",
       "1      /2k9tBql5GYH328Krj66tDT9LtFZ.jpg   Adventure, Drama, Horror   \n",
       "2      /mVNPfpydornVe4H4UCIk7WevWjf.jpg  Horror, Mystery, Thriller   \n",
       "3      /AfvIjhDu9p64jKcmohS4hsPG95Q.jpg           Horror, Thriller   \n",
       "4      /ojfzhdwRemcDt1I6pao6vVLw9AA.jpg                     Horror   \n",
       "...                                 ...                        ...   \n",
       "32535                               NaN                     Horror   \n",
       "32536                               NaN            Fantasy, Horror   \n",
       "32537  /s8Kpai084gCgQlsT3bpaEYuJmDc.jpg      Comedy, Drama, Horror   \n",
       "32538                               NaN                     Horror   \n",
       "32539                               NaN          Animation, Horror   \n",
       "\n",
       "       collection    collection_name  \n",
       "0        760193.0  Orphan Collection  \n",
       "1             NaN                NaN  \n",
       "2             NaN                NaN  \n",
       "3             NaN                NaN  \n",
       "4             NaN                NaN  \n",
       "...           ...                ...  \n",
       "32535         NaN                NaN  \n",
       "32536         NaN                NaN  \n",
       "32537         NaN                NaN  \n",
       "32538         NaN                NaN  \n",
       "32539         NaN                NaN  \n",
       "\n",
       "[32540 rows x 20 columns]"
      ]
     },
     "execution_count": 5,
     "metadata": {},
     "output_type": "execute_result"
    }
   ],
   "source": [
    "df.columns = df.columns.str.lower()\n",
    "df.columns = df.columns.str.strip()\n",
    "df.columns = df.columns.str.replace(' ','_')\n",
    "df"
   ]
  },
  {
   "cell_type": "markdown",
   "id": "9bd4b630-ab67-4b47-87a1-818e0aee3ef7",
   "metadata": {},
   "source": [
    "## check missing values"
   ]
  },
  {
   "cell_type": "code",
   "execution_count": 6,
   "id": "5ab590ac-739a-469c-a8ba-f771a695c371",
   "metadata": {},
   "outputs": [
    {
     "data": {
      "text/plain": [
       "id                       0\n",
       "original_title           0\n",
       "title                    0\n",
       "original_language        0\n",
       "overview              1286\n",
       "tagline              19834\n",
       "release_date             0\n",
       "poster_path           4474\n",
       "popularity               0\n",
       "vote_count               0\n",
       "vote_average             0\n",
       "budget                   0\n",
       "revenue                  0\n",
       "runtime                  0\n",
       "status                   0\n",
       "adult                    0\n",
       "backdrop_path        18995\n",
       "genre_names              0\n",
       "collection           30234\n",
       "collection_name      30234\n",
       "dtype: int64"
      ]
     },
     "execution_count": 6,
     "metadata": {},
     "output_type": "execute_result"
    }
   ],
   "source": [
    "df.isna().sum()"
   ]
  },
  {
   "cell_type": "markdown",
   "id": "da6ae8f0-64b9-46dd-98ac-441788954740",
   "metadata": {},
   "source": [
    "## check duplicated values"
   ]
  },
  {
   "cell_type": "code",
   "execution_count": 7,
   "id": "c47e44a0-64e9-4ac2-bc4d-e7f2bb18b205",
   "metadata": {},
   "outputs": [
    {
     "data": {
      "text/plain": [
       "0"
      ]
     },
     "execution_count": 7,
     "metadata": {},
     "output_type": "execute_result"
    }
   ],
   "source": [
    "df.duplicated().sum()"
   ]
  },
  {
   "cell_type": "markdown",
   "id": "72b7f2e4-9ac3-45f0-825f-516fd0088500",
   "metadata": {},
   "source": [
    "## convert released date to datetime format"
   ]
  },
  {
   "cell_type": "code",
   "execution_count": 8,
   "id": "01775fa9-ae40-4738-bce6-e88f7a3d796f",
   "metadata": {},
   "outputs": [],
   "source": [
    "df['release_date'] = pd.to_datetime(df['release_date'])"
   ]
  },
  {
   "cell_type": "code",
   "execution_count": 9,
   "id": "8ca1f0aa-1a21-4f37-8371-6d4ec1cf7b06",
   "metadata": {},
   "outputs": [
    {
     "name": "stdout",
     "output_type": "stream",
     "text": [
      "<class 'pandas.core.frame.DataFrame'>\n",
      "RangeIndex: 32540 entries, 0 to 32539\n",
      "Data columns (total 20 columns):\n",
      " #   Column             Non-Null Count  Dtype         \n",
      "---  ------             --------------  -----         \n",
      " 0   id                 32540 non-null  int64         \n",
      " 1   original_title     32540 non-null  object        \n",
      " 2   title              32540 non-null  object        \n",
      " 3   original_language  32540 non-null  object        \n",
      " 4   overview           31254 non-null  object        \n",
      " 5   tagline            12706 non-null  object        \n",
      " 6   release_date       32540 non-null  datetime64[ns]\n",
      " 7   poster_path        28066 non-null  object        \n",
      " 8   popularity         32540 non-null  float64       \n",
      " 9   vote_count         32540 non-null  int64         \n",
      " 10  vote_average       32540 non-null  float64       \n",
      " 11  budget             32540 non-null  int64         \n",
      " 12  revenue            32540 non-null  int64         \n",
      " 13  runtime            32540 non-null  int64         \n",
      " 14  status             32540 non-null  object        \n",
      " 15  adult              32540 non-null  bool          \n",
      " 16  backdrop_path      13545 non-null  object        \n",
      " 17  genre_names        32540 non-null  object        \n",
      " 18  collection         2306 non-null   float64       \n",
      " 19  collection_name    2306 non-null   object        \n",
      "dtypes: bool(1), datetime64[ns](1), float64(3), int64(5), object(10)\n",
      "memory usage: 4.7+ MB\n"
     ]
    }
   ],
   "source": [
    "df.info()"
   ]
  },
  {
   "cell_type": "markdown",
   "id": "30563619-63ee-4df3-9206-2b152631fab1",
   "metadata": {},
   "source": []
  },
  {
   "cell_type": "markdown",
   "id": "1c9fa9aa-0e68-4743-b40f-edd8ebddef42",
   "metadata": {},
   "source": [
    "## univariate analysis"
   ]
  },
  {
   "cell_type": "code",
   "execution_count": 10,
   "id": "5776cf8f-1a1d-4cc1-9688-ac807de015f2",
   "metadata": {},
   "outputs": [
    {
     "data": {
      "text/plain": [
       "Index(['id', 'popularity', 'vote_count', 'vote_average', 'budget', 'revenue',\n",
       "       'runtime', 'collection'],\n",
       "      dtype='object')"
      ]
     },
     "execution_count": 10,
     "metadata": {},
     "output_type": "execute_result"
    }
   ],
   "source": [
    "numeric_columns = df.select_dtypes(include = np.number).columns\n",
    "numeric_columns"
   ]
  },
  {
   "cell_type": "code",
   "execution_count": 11,
   "id": "eed998a5-70c4-4e0b-833d-b06a8cfa604e",
   "metadata": {
    "scrolled": true
   },
   "outputs": [
    {
     "name": "stderr",
     "output_type": "stream",
     "text": [
      "D:\\anaconda3\\envs\\mohamed\\Lib\\site-packages\\seaborn\\_oldcore.py:1498: FutureWarning: is_categorical_dtype is deprecated and will be removed in a future version. Use isinstance(dtype, CategoricalDtype) instead\n",
      "  if pd.api.types.is_categorical_dtype(vector):\n"
     ]
    },
    {
     "data": {
      "image/png": "[encoded data removed]",
      "text/plain": [
       "<Figure size 640x480 with 1 Axes>"
      ]
     },
     "metadata": {},
     "output_type": "display_data"
    },
    {
     "name": "stderr",
     "output_type": "stream",
     "text": [
      "D:\\anaconda3\\envs\\mohamed\\Lib\\site-packages\\seaborn\\_oldcore.py:1498: FutureWarning: is_categorical_dtype is deprecated and will be removed in a future version. Use isinstance(dtype, CategoricalDtype) instead\n",
      "  if pd.api.types.is_categorical_dtype(vector):\n"
     ]
    },
    {
     "data": {
      "image/png": "[encoded data removed]",
      "text/plain": [
       "<Figure size 640x480 with 1 Axes>"
      ]
     },
     "metadata": {},
     "output_type": "display_data"
    },
    {
     "name": "stderr",
     "output_type": "stream",
     "text": [
      "D:\\anaconda3\\envs\\mohamed\\Lib\\site-packages\\seaborn\\_oldcore.py:1498: FutureWarning: is_categorical_dtype is deprecated and will be removed in a future version. Use isinstance(dtype, CategoricalDtype) instead\n",
      "  if pd.api.types.is_categorical_dtype(vector):\n"
     ]
    },
    {
     "data": {
      "image/png": "[encoded data removed]",
      "text/plain": [
       "<Figure size 640x480 with 1 Axes>"
      ]
     },
     "metadata": {},
     "output_type": "display_data"
    },
    {
     "name": "stderr",
     "output_type": "stream",
     "text": [
      "D:\\anaconda3\\envs\\mohamed\\Lib\\site-packages\\seaborn\\_oldcore.py:1498: FutureWarning: is_categorical_dtype is deprecated and will be removed in a future version. Use isinstance(dtype, CategoricalDtype) instead\n",
      "  if pd.api.types.is_categorical_dtype(vector):\n"
     ]
    },
    {
     "data": {
      "image/png": "[encoded data removed]",
      "text/plain": [
       "<Figure size 640x480 with 1 Axes>"
      ]
     },
     "metadata": {},
     "output_type": "display_data"
    },
    {
     "name": "stderr",
     "output_type": "stream",
     "text": [
      "D:\\anaconda3\\envs\\mohamed\\Lib\\site-packages\\seaborn\\_oldcore.py:1498: FutureWarning: is_categorical_dtype is deprecated and will be removed in a future version. Use isinstance(dtype, CategoricalDtype) instead\n",
      "  if pd.api.types.is_categorical_dtype(vector):\n"
     ]
    },
    {
     "data": {
      "image/png": "[encoded data removed]",
      "text/plain": [
       "<Figure size 640x480 with 1 Axes>"
      ]
     },
     "metadata": {},
     "output_type": "display_data"
    },
    {
     "name": "stderr",
     "output_type": "stream",
     "text": [
      "D:\\anaconda3\\envs\\mohamed\\Lib\\site-packages\\seaborn\\_oldcore.py:1498: FutureWarning: is_categorical_dtype is deprecated and will be removed in a future version. Use isinstance(dtype, CategoricalDtype) instead\n",
      "  if pd.api.types.is_categorical_dtype(vector):\n"
     ]
    },
    {
     "data": {
      "image/png": "[encoded data removed]",
      "text/plain": [
       "<Figure size 640x480 with 1 Axes>"
      ]
     },
     "metadata": {},
     "output_type": "display_data"
    },
    {
     "name": "stderr",
     "output_type": "stream",
     "text": [
      "D:\\anaconda3\\envs\\mohamed\\Lib\\site-packages\\seaborn\\_oldcore.py:1498: FutureWarning: is_categorical_dtype is deprecated and will be removed in a future version. Use isinstance(dtype, CategoricalDtype) instead\n",
      "  if pd.api.types.is_categorical_dtype(vector):\n"
     ]
    },
    {
     "data": {
      "image/png": "[encoded data removed]",
      "text/plain": [
       "<Figure size 640x480 with 1 Axes>"
      ]
     },
     "metadata": {},
     "output_type": "display_data"
    },
    {
     "name": "stderr",
     "output_type": "stream",
     "text": [
      "D:\\anaconda3\\envs\\mohamed\\Lib\\site-packages\\seaborn\\_oldcore.py:1498: FutureWarning: is_categorical_dtype is deprecated and will be removed in a future version. Use isinstance(dtype, CategoricalDtype) instead\n",
      "  if pd.api.types.is_categorical_dtype(vector):\n"
     ]
    },
    {
     "data": {
      "image/png": "[encoded data removed]",
      "text/plain": [
       "<Figure size 640x480 with 1 Axes>"
      ]
     },
     "metadata": {},
     "output_type": "display_data"
    }
   ],
   "source": [
    "for col in numeric_columns:\n",
    "    sns.boxplot(data = df, x=col)\n",
    "    plt.show()"
   ]
  },
  {
   "cell_type": "code",
   "execution_count": 12,
   "id": "45e519ff-f277-4e1e-9d12-fe8a70d15234",
   "metadata": {},
   "outputs": [
    {
     "data": {
      "text/plain": [
       "<Axes: >"
      ]
     },
     "execution_count": 12,
     "metadata": {},
     "output_type": "execute_result"
    },
    {
     "data": {
      "image/png": "[encoded data removed]",
      "text/plain": [
       "<Figure size 1400x700 with 2 Axes>"
      ]
     },
     "metadata": {},
     "output_type": "display_data"
    }
   ],
   "source": [
    "df_num = df.select_dtypes(include='number')\n",
    "plt.figure(figsize =[14,7])\n",
    "sns.heatmap(df_num.corr(),annot=True)\n"
   ]
  },
  {
   "cell_type": "markdown",
   "id": "d3b0873e-419f-4351-9522-c8bd039e85ed",
   "metadata": {},
   "source": [
    "## bivariate analysis"
   ]
  },
  {
   "cell_type": "code",
   "execution_count": 13,
   "id": "b47fae45-49b2-459a-b38b-f5b33ba5c1ed",
   "metadata": {},
   "outputs": [
    {
     "name": "stderr",
     "output_type": "stream",
     "text": [
      "D:\\anaconda3\\envs\\mohamed\\Lib\\site-packages\\seaborn\\_oldcore.py:1498: FutureWarning: is_categorical_dtype is deprecated and will be removed in a future version. Use isinstance(dtype, CategoricalDtype) instead\n",
      "  if pd.api.types.is_categorical_dtype(vector):\n",
      "D:\\anaconda3\\envs\\mohamed\\Lib\\site-packages\\seaborn\\_oldcore.py:1498: FutureWarning: is_categorical_dtype is deprecated and will be removed in a future version. Use isinstance(dtype, CategoricalDtype) instead\n",
      "  if pd.api.types.is_categorical_dtype(vector):\n"
     ]
    },
    {
     "data": {
      "text/plain": [
       "<Axes: xlabel='popularity', ylabel='vote_average'>"
      ]
     },
     "execution_count": 13,
     "metadata": {},
     "output_type": "execute_result"
    },
    {
     "data": {
      "image/png": "[encoded data removed]",
      "text/plain": [
       "<Figure size 640x480 with 1 Axes>"
      ]
     },
     "metadata": {},
     "output_type": "display_data"
    }
   ],
   "source": [
    "sns.scatterplot(data = df, x='popularity',y='vote_average')"
   ]
  },
  {
   "cell_type": "markdown",
   "id": "3c5352c0-728f-4dd4-a027-8fe9022097e3",
   "metadata": {},
   "source": [
    "## creating new features"
   ]
  },
  {
   "cell_type": "code",
   "execution_count": 14,
   "id": "f625979c-aeea-4760-960c-841ebc72d46e",
   "metadata": {},
   "outputs": [],
   "source": [
    "df['month'] = df['release_date'].dt.month\n",
    "df['day'] = df['release_date'].dt.day\n",
    "df['year'] = df['release_date'].dt.year\n",
    "df['profit'] = df['revenue'] - df['budget']"
   ]
  },
  {
   "cell_type": "markdown",
   "id": "96531849-0e36-4200-b6e5-20ffde070fb8",
   "metadata": {},
   "source": [
    "## Analysis Questions"
   ]
  },
  {
   "cell_type": "markdown",
   "id": "746f0195-a524-4213-9e95-34ca58d1eb8e",
   "metadata": {},
   "source": [
    "## what is the average popularity rating of horror movies in the dataset?"
   ]
  },
  {
   "cell_type": "code",
   "execution_count": 15,
   "id": "0fc60bfa-a1ba-4920-9b62-ba35ddc53356",
   "metadata": {},
   "outputs": [
    {
     "data": {
      "text/plain": [
       "4.013455593116165"
      ]
     },
     "execution_count": 15,
     "metadata": {},
     "output_type": "execute_result"
    }
   ],
   "source": [
    "df['popularity'].mean()"
   ]
  },
  {
   "cell_type": "markdown",
   "id": "2dda0bc5-304d-41ff-b5ed-81fafbb1b302",
   "metadata": {},
   "source": [
    "## Which horror movie has the highest revenue?\r\n",
    "\r\n"
   ]
  },
  {
   "cell_type": "code",
   "execution_count": 16,
   "id": "2471374b-20c0-4ad0-8290-1b4ed22fac62",
   "metadata": {},
   "outputs": [
    {
     "data": {
      "text/plain": [
       "701842551"
      ]
     },
     "execution_count": 16,
     "metadata": {},
     "output_type": "execute_result"
    }
   ],
   "source": [
    "df['revenue'].max()"
   ]
  },
  {
   "cell_type": "markdown",
   "id": "c99355c3-f85d-4924-818c-5d83ea4f33cc",
   "metadata": {},
   "source": [
    "## What is the distribution of runtime for horror movies?"
   ]
  },
  {
   "cell_type": "code",
   "execution_count": 17,
   "id": "324548d3-60d3-4ca3-bd6d-5d782cd4c6cf",
   "metadata": {},
   "outputs": [
    {
     "data": {
      "text/plain": [
       "count    32540.000000\n",
       "mean        62.142901\n",
       "std         40.998527\n",
       "min          0.000000\n",
       "25%         14.000000\n",
       "50%         80.000000\n",
       "75%         91.000000\n",
       "max        683.000000\n",
       "Name: runtime, dtype: float64"
      ]
     },
     "execution_count": 17,
     "metadata": {},
     "output_type": "execute_result"
    }
   ],
   "source": [
    "df['runtime'].describe()"
   ]
  },
  {
   "cell_type": "markdown",
   "id": "74db2b00-5066-41fb-8c4d-50b7b8626130",
   "metadata": {},
   "source": [
    "## How many horror movies in the dataset are part of a collection?"
   ]
  },
  {
   "cell_type": "code",
   "execution_count": 18,
   "id": "bb3f018c-080f-4999-a03a-83f636f0deb5",
   "metadata": {},
   "outputs": [
    {
     "data": {
      "text/plain": [
       "2306"
      ]
     },
     "execution_count": 18,
     "metadata": {},
     "output_type": "execute_result"
    }
   ],
   "source": [
    "df['collection'].count()"
   ]
  },
  {
   "cell_type": "markdown",
   "id": "592551f9-ab67-4ffc-b048-4823e206f660",
   "metadata": {},
   "source": [
    "## Which horror movies has the highest vote average?"
   ]
  },
  {
   "cell_type": "code",
   "execution_count": 19,
   "id": "5df67b37-8561-4df8-92b2-a5d081fcba95",
   "metadata": {},
   "outputs": [
    {
     "data": {
      "text/plain": [
       "10.0"
      ]
     },
     "execution_count": 19,
     "metadata": {},
     "output_type": "execute_result"
    }
   ],
   "source": [
    "df['vote_average'].max()"
   ]
  },
  {
   "cell_type": "markdown",
   "id": "a9909d77-25de-48c8-9fdb-6fcbcf87a104",
   "metadata": {},
   "source": [
    "## \tWhat is the most common original language among horror movies?"
   ]
  },
  {
   "cell_type": "code",
   "execution_count": 20,
   "id": "c8a20bf1-ed9f-4eae-abd7-c36d256e82a8",
   "metadata": {},
   "outputs": [
    {
     "data": {
      "text/plain": [
       "'en'"
      ]
     },
     "execution_count": 20,
     "metadata": {},
     "output_type": "execute_result"
    }
   ],
   "source": [
    "df['original_language'].mode()[0]"
   ]
  },
  {
   "cell_type": "markdown",
   "id": "3a0a3939-9972-401b-9f22-b552d7670142",
   "metadata": {},
   "source": [
    "## Is there a correlation between movie popularity and vote count?"
   ]
  },
  {
   "cell_type": "code",
   "execution_count": 21,
   "id": "57ba29a7-610c-4249-a5de-efac6d6de3f8",
   "metadata": {},
   "outputs": [
    {
     "data": {
      "text/plain": [
       "0.16935468597740086"
      ]
     },
     "execution_count": 21,
     "metadata": {},
     "output_type": "execute_result"
    }
   ],
   "source": [
    "df['popularity'].corr(df['vote_count'])"
   ]
  },
  {
   "cell_type": "markdown",
   "id": "9a1efd3a-6e9c-4229-9eda-d3622f9d44a6",
   "metadata": {},
   "source": [
    "## what is the minimum revenue?"
   ]
  },
  {
   "cell_type": "code",
   "execution_count": 22,
   "id": "31aa660b-78e5-4fee-b53b-a079f0c718ac",
   "metadata": {},
   "outputs": [
    {
     "data": {
      "text/plain": [
       "0"
      ]
     },
     "execution_count": 22,
     "metadata": {},
     "output_type": "execute_result"
    }
   ],
   "source": [
    "df['revenue'].min()"
   ]
  },
  {
   "cell_type": "markdown",
   "id": "f6d0e03e-ecd9-4165-bf75-2ca81f381ce7",
   "metadata": {},
   "source": [
    "## what is the highest 10 movies revenue?"
   ]
  },
  {
   "cell_type": "code",
   "execution_count": 23,
   "id": "71312a47-a561-4464-8641-aa82ecd8c5b2",
   "metadata": {},
   "outputs": [
    {
     "data": {
      "text/plain": [
       "title\n",
       "It                701842551\n",
       "World War Z       531865000\n",
       "The Meg           530243742\n",
       "It Chapter Two    473122525\n",
       "Jaws              470653000\n",
       "The Exorcist      441306145\n",
       "The Mummy         409231607\n",
       "The Nun           365550119\n",
       "A Quiet Place     340677200\n",
       "Black Swan        329398046\n",
       "Name: revenue, dtype: int64"
      ]
     },
     "execution_count": 23,
     "metadata": {},
     "output_type": "execute_result"
    }
   ],
   "source": [
    "df.groupby('title')['revenue'].max().sort_values(ascending=False).head(10)"
   ]
  },
  {
   "cell_type": "markdown",
   "id": "db64c37e-a352-4b48-acb0-e288ce34131b",
   "metadata": {},
   "source": [
    "## How many movies are released in each year?"
   ]
  },
  {
   "cell_type": "code",
   "execution_count": 24,
   "id": "0c24e349-0bfe-4a2d-8b2d-6614ae81cb98",
   "metadata": {},
   "outputs": [
    {
     "data": {
      "text/plain": [
       "year\n",
       "1950       8\n",
       "1951      15\n",
       "1952      11\n",
       "1953      22\n",
       "1954      27\n",
       "        ... \n",
       "2018    1771\n",
       "2019    1895\n",
       "2020    2100\n",
       "2021    1992\n",
       "2022    1534\n",
       "Name: count, Length: 73, dtype: int64"
      ]
     },
     "execution_count": 24,
     "metadata": {},
     "output_type": "execute_result"
    }
   ],
   "source": [
    "df['year'].value_counts().sort_index()"
   ]
  },
  {
   "cell_type": "markdown",
   "id": "977e3439-be2d-460c-9fd5-f0e42f9b480d",
   "metadata": {},
   "source": [
    "## How many movies are part of a collection?"
   ]
  },
  {
   "cell_type": "code",
   "execution_count": 25,
   "id": "42778f74-f86a-475b-90fe-00fddceac0a2",
   "metadata": {},
   "outputs": [
    {
     "data": {
      "text/plain": [
       "2306"
      ]
     },
     "execution_count": 25,
     "metadata": {},
     "output_type": "execute_result"
    }
   ],
   "source": [
    "df['collection_name'].count()"
   ]
  },
  {
   "cell_type": "markdown",
   "id": "bb199a0a-c13e-4775-b036-aa149d995977",
   "metadata": {},
   "source": [
    "## what is the total revenue of the movies?"
   ]
  },
  {
   "cell_type": "code",
   "execution_count": 26,
   "id": "43859f18-52fd-4c65-93a4-f9d67fc0ded7",
   "metadata": {},
   "outputs": [
    {
     "data": {
      "text/plain": [
       "43920758650"
      ]
     },
     "execution_count": 26,
     "metadata": {},
     "output_type": "execute_result"
    }
   ],
   "source": [
    "df['revenue'].sum()"
   ]
  },
  {
   "cell_type": "markdown",
   "id": "e19bc452-9b4b-4ebb-89ab-dac9f3b69dbb",
   "metadata": {},
   "source": [
    "## how many movies are classified as horror?"
   ]
  },
  {
   "cell_type": "code",
   "execution_count": 27,
   "id": "03dcf97b-208b-4655-a2b2-5abf571fd8a9",
   "metadata": {},
   "outputs": [
    {
     "data": {
      "text/plain": [
       "32536"
      ]
     },
     "execution_count": 27,
     "metadata": {},
     "output_type": "execute_result"
    }
   ],
   "source": [
    "len(df[df['genre_names'].str.contains('horror',case=False)])"
   ]
  },
  {
   "cell_type": "markdown",
   "id": "a2181add-6fd1-4ac1-81c9-1b3435ea9724",
   "metadata": {},
   "source": [
    "## what is the tagline of the movies with the highest 10 popularity?"
   ]
  },
  {
   "cell_type": "code",
   "execution_count": 28,
   "id": "f6cbb3cf-413f-43e2-b364-350b9f5263a9",
   "metadata": {},
   "outputs": [
    {
     "data": {
      "text/plain": [
       "tagline\n",
       "There's always been something wrong with Esther.    5088.584\n",
       "Fight for family.                                   2172.338\n",
       "Once you see it, it’s too late.                     1863.628\n",
       "Never talk to strangers.                            1071.398\n",
       "Evil Rides Again                                     821.605\n",
       "What’s a bad miracle?                                733.112\n",
       "\"If I die, you die\"                                  574.832\n",
       "Dying to show you a good time.                       543.670\n",
       "God and the Devil cannot exist in the same body.     537.252\n",
       "Once you open the box... you can't escape it.        527.579\n",
       "Name: popularity, dtype: float64"
      ]
     },
     "execution_count": 28,
     "metadata": {},
     "output_type": "execute_result"
    }
   ],
   "source": [
    "df.groupby('tagline')['popularity'].max().sort_values(ascending=False).head(10)"
   ]
  },
  {
   "cell_type": "markdown",
   "id": "c0e9b583-e193-4cf8-97a4-676d8dbaa382",
   "metadata": {},
   "source": [
    "## How many movies were released in each month?"
   ]
  },
  {
   "cell_type": "code",
   "execution_count": 29,
   "id": "59256273-32ed-4870-943a-146e2984562a",
   "metadata": {},
   "outputs": [
    {
     "data": {
      "text/plain": [
       "month\n",
       "1     5582\n",
       "2     1670\n",
       "3     2132\n",
       "4     2189\n",
       "5     2201\n",
       "6     2211\n",
       "7     2198\n",
       "8     2472\n",
       "9     2574\n",
       "10    4852\n",
       "11    2382\n",
       "12    2077\n",
       "Name: count, dtype: int64"
      ]
     },
     "execution_count": 29,
     "metadata": {},
     "output_type": "execute_result"
    }
   ],
   "source": [
    "df['month'].value_counts().sort_index()"
   ]
  },
  {
   "cell_type": "markdown",
   "id": "e1ad42d1-0c3a-4328-95bc-6b0c0148c422",
   "metadata": {},
   "source": [
    "## How many movies have a budget greater than $50 million?"
   ]
  },
  {
   "cell_type": "code",
   "execution_count": 30,
   "id": "1090d085-d46b-412f-bd5f-e180451d6540",
   "metadata": {},
   "outputs": [
    {
     "data": {
      "text/plain": [
       "2328"
      ]
     },
     "execution_count": 30,
     "metadata": {},
     "output_type": "execute_result"
    }
   ],
   "source": [
    "len(df[df['budget']> 100000])"
   ]
  },
  {
   "cell_type": "markdown",
   "id": "51e11a8a-512c-404a-9224-4af430b04fed",
   "metadata": {},
   "source": [
    "## What is the earliest release date among the movies?"
   ]
  },
  {
   "cell_type": "code",
   "execution_count": 31,
   "id": "ee0592f4-7c5a-4a93-bf9f-5e85c573fe5a",
   "metadata": {},
   "outputs": [
    {
     "data": {
      "text/plain": [
       "1950"
      ]
     },
     "execution_count": 31,
     "metadata": {},
     "output_type": "execute_result"
    }
   ],
   "source": [
    "df['year'].min()"
   ]
  },
  {
   "cell_type": "markdown",
   "id": "333a5db6-6000-464b-bc7f-bda17748dca1",
   "metadata": {},
   "source": [
    "## How many movies have a runtime greater than 100 minutes?"
   ]
  },
  {
   "cell_type": "code",
   "execution_count": 32,
   "id": "9ee3e5e8-8003-4624-80a3-32a62fa3bad4",
   "metadata": {},
   "outputs": [
    {
     "data": {
      "text/plain": [
       "32540"
      ]
     },
     "execution_count": 32,
     "metadata": {},
     "output_type": "execute_result"
    }
   ],
   "source": [
    "len(df['runtime'] >= 100)"
   ]
  },
  {
   "cell_type": "markdown",
   "id": "88eb6be6-993f-4325-8262-3a3a2c4e6f33",
   "metadata": {},
   "source": [
    "## How many movies are part of the Orphan Collection?"
   ]
  },
  {
   "cell_type": "code",
   "execution_count": 33,
   "id": "c0db582b-1aa6-4d46-9275-407c4833b5fc",
   "metadata": {},
   "outputs": [
    {
     "data": {
      "text/plain": [
       "2"
      ]
     },
     "execution_count": 33,
     "metadata": {},
     "output_type": "execute_result"
    }
   ],
   "source": [
    "orphan_collection = df[df['collection_name'] == 'Orphan Collection']\n",
    "len(orphan_collection)"
   ]
  },
  {
   "cell_type": "markdown",
   "id": "c2f03574-4789-4bab-ac8c-0a48a11fa082",
   "metadata": {},
   "source": [
    "## How many movies were released in each day of the week?"
   ]
  },
  {
   "cell_type": "code",
   "execution_count": 34,
   "id": "2b3e440f-426a-4705-8807-99a595a88d38",
   "metadata": {},
   "outputs": [
    {
     "data": {
      "text/plain": [
       "day\n",
       "1     6191\n",
       "2      843\n",
       "3      824\n",
       "4      837\n",
       "5      876\n",
       "6      855\n",
       "7      833\n",
       "8      791\n",
       "9      801\n",
       "10     977\n",
       "11     916\n",
       "12     958\n",
       "13     949\n",
       "14     874\n",
       "15    1060\n",
       "16     745\n",
       "17     808\n",
       "18     862\n",
       "19     784\n",
       "20     914\n",
       "21     907\n",
       "22     836\n",
       "23     783\n",
       "24     846\n",
       "25    1042\n",
       "26     824\n",
       "27     871\n",
       "28     986\n",
       "29     757\n",
       "30     923\n",
       "31    1067\n",
       "Name: count, dtype: int64"
      ]
     },
     "execution_count": 34,
     "metadata": {},
     "output_type": "execute_result"
    }
   ],
   "source": [
    "df['day'].value_counts().sort_index()"
   ]
  },
  {
   "cell_type": "markdown",
   "id": "ddf2883f-299b-41e1-a240-779e24bdef57",
   "metadata": {},
   "source": [
    "## What is the highest 10 profit?"
   ]
  },
  {
   "cell_type": "code",
   "execution_count": 35,
   "id": "c4955bec-85f0-4f8c-81c2-2ffd3629c97d",
   "metadata": {},
   "outputs": [
    {
     "data": {
      "text/plain": [
       "title\n",
       "It                666842551\n",
       "Jaws              463653000\n",
       "The Exorcist      430306145\n",
       "It Chapter Two    394122525\n",
       "The Meg           380243742\n",
       "The Nun           343550119\n",
       "World War Z       331865000\n",
       "A Quiet Place     323677200\n",
       "Black Swan        316398046\n",
       "The Conjuring     306494638\n",
       "Name: profit, dtype: int64"
      ]
     },
     "execution_count": 35,
     "metadata": {},
     "output_type": "execute_result"
    }
   ],
   "source": [
    "df.groupby('title')['profit'].max().sort_values(ascending=False).head(10)"
   ]
  },
  {
   "cell_type": "code",
   "execution_count": 36,
   "id": "7d6647ff-a42e-4484-9652-6e220076dcab",
   "metadata": {},
   "outputs": [
    {
     "data": {
      "text/html": [
       "<div>\n",
       "<style scoped>\n",
       "    .dataframe tbody tr th:only-of-type {\n",
       "        vertical-align: middle;\n",
       "    }\n",
       "\n",
       "    .dataframe tbody tr th {\n",
       "        vertical-align: top;\n",
       "    }\n",
       "\n",
       "    .dataframe thead th {\n",
       "        text-align: right;\n",
       "    }\n",
       "</style>\n",
       "<table border=\"1\" class=\"dataframe\">\n",
       "  <thead>\n",
       "    <tr style=\"text-align: right;\">\n",
       "      <th></th>\n",
       "      <th>id</th>\n",
       "      <th>original_title</th>\n",
       "      <th>title</th>\n",
       "      <th>original_language</th>\n",
       "      <th>overview</th>\n",
       "      <th>tagline</th>\n",
       "      <th>release_date</th>\n",
       "      <th>poster_path</th>\n",
       "      <th>popularity</th>\n",
       "      <th>vote_count</th>\n",
       "      <th>...</th>\n",
       "      <th>status</th>\n",
       "      <th>adult</th>\n",
       "      <th>backdrop_path</th>\n",
       "      <th>genre_names</th>\n",
       "      <th>collection</th>\n",
       "      <th>collection_name</th>\n",
       "      <th>month</th>\n",
       "      <th>day</th>\n",
       "      <th>year</th>\n",
       "      <th>profit</th>\n",
       "    </tr>\n",
       "  </thead>\n",
       "  <tbody>\n",
       "    <tr>\n",
       "      <th>0</th>\n",
       "      <td>760161</td>\n",
       "      <td>Orphan: First Kill</td>\n",
       "      <td>Orphan: First Kill</td>\n",
       "      <td>en</td>\n",
       "      <td>After escaping from an Estonian psychiatric fa...</td>\n",
       "      <td>There's always been something wrong with Esther.</td>\n",
       "      <td>2022-07-27</td>\n",
       "      <td>/pHkKbIRoCe7zIFvqan9LFSaQAde.jpg</td>\n",
       "      <td>5088.584</td>\n",
       "      <td>902</td>\n",
       "      <td>...</td>\n",
       "      <td>Released</td>\n",
       "      <td>False</td>\n",
       "      <td>/5GA3vV1aWWHTSDO5eno8V5zDo8r.jpg</td>\n",
       "      <td>Horror, Thriller</td>\n",
       "      <td>760193.0</td>\n",
       "      <td>Orphan Collection</td>\n",
       "      <td>7</td>\n",
       "      <td>27</td>\n",
       "      <td>2022</td>\n",
       "      <td>9572765</td>\n",
       "    </tr>\n",
       "    <tr>\n",
       "      <th>1</th>\n",
       "      <td>760741</td>\n",
       "      <td>Beast</td>\n",
       "      <td>Beast</td>\n",
       "      <td>en</td>\n",
       "      <td>A recently widowed man and his two teenage dau...</td>\n",
       "      <td>Fight for family.</td>\n",
       "      <td>2022-08-11</td>\n",
       "      <td>/xIGr7UHsKf0URWmyyd5qFMAq4d8.jpg</td>\n",
       "      <td>2172.338</td>\n",
       "      <td>584</td>\n",
       "      <td>...</td>\n",
       "      <td>Released</td>\n",
       "      <td>False</td>\n",
       "      <td>/2k9tBql5GYH328Krj66tDT9LtFZ.jpg</td>\n",
       "      <td>Adventure, Drama, Horror</td>\n",
       "      <td>NaN</td>\n",
       "      <td>NaN</td>\n",
       "      <td>8</td>\n",
       "      <td>11</td>\n",
       "      <td>2022</td>\n",
       "      <td>56000000</td>\n",
       "    </tr>\n",
       "    <tr>\n",
       "      <th>2</th>\n",
       "      <td>882598</td>\n",
       "      <td>Smile</td>\n",
       "      <td>Smile</td>\n",
       "      <td>en</td>\n",
       "      <td>After witnessing a bizarre, traumatic incident...</td>\n",
       "      <td>Once you see it, it’s too late.</td>\n",
       "      <td>2022-09-23</td>\n",
       "      <td>/hiaeZKzwsk4y4atFhmncO5KRxeT.jpg</td>\n",
       "      <td>1863.628</td>\n",
       "      <td>114</td>\n",
       "      <td>...</td>\n",
       "      <td>Released</td>\n",
       "      <td>False</td>\n",
       "      <td>/mVNPfpydornVe4H4UCIk7WevWjf.jpg</td>\n",
       "      <td>Horror, Mystery, Thriller</td>\n",
       "      <td>NaN</td>\n",
       "      <td>NaN</td>\n",
       "      <td>9</td>\n",
       "      <td>23</td>\n",
       "      <td>2022</td>\n",
       "      <td>28000000</td>\n",
       "    </tr>\n",
       "    <tr>\n",
       "      <th>3</th>\n",
       "      <td>756999</td>\n",
       "      <td>The Black Phone</td>\n",
       "      <td>The Black Phone</td>\n",
       "      <td>en</td>\n",
       "      <td>Finney Blake, a shy but clever 13-year-old boy...</td>\n",
       "      <td>Never talk to strangers.</td>\n",
       "      <td>2022-06-22</td>\n",
       "      <td>/lr11mCT85T1JanlgjMuhs9nMht4.jpg</td>\n",
       "      <td>1071.398</td>\n",
       "      <td>2736</td>\n",
       "      <td>...</td>\n",
       "      <td>Released</td>\n",
       "      <td>False</td>\n",
       "      <td>/AfvIjhDu9p64jKcmohS4hsPG95Q.jpg</td>\n",
       "      <td>Horror, Thriller</td>\n",
       "      <td>NaN</td>\n",
       "      <td>NaN</td>\n",
       "      <td>6</td>\n",
       "      <td>22</td>\n",
       "      <td>2022</td>\n",
       "      <td>142200000</td>\n",
       "    </tr>\n",
       "    <tr>\n",
       "      <th>4</th>\n",
       "      <td>772450</td>\n",
       "      <td>Presencias</td>\n",
       "      <td>Presences</td>\n",
       "      <td>es</td>\n",
       "      <td>A man who loses his wife and goes to seclude h...</td>\n",
       "      <td>NaN</td>\n",
       "      <td>2022-09-07</td>\n",
       "      <td>/dgDT3uol3mdvwEg0jt1ble3l9hw.jpg</td>\n",
       "      <td>1020.995</td>\n",
       "      <td>83</td>\n",
       "      <td>...</td>\n",
       "      <td>Released</td>\n",
       "      <td>False</td>\n",
       "      <td>/ojfzhdwRemcDt1I6pao6vVLw9AA.jpg</td>\n",
       "      <td>Horror</td>\n",
       "      <td>NaN</td>\n",
       "      <td>NaN</td>\n",
       "      <td>9</td>\n",
       "      <td>7</td>\n",
       "      <td>2022</td>\n",
       "      <td>0</td>\n",
       "    </tr>\n",
       "  </tbody>\n",
       "</table>\n",
       "<p>5 rows × 24 columns</p>\n",
       "</div>"
      ],
      "text/plain": [
       "       id      original_title               title original_language  \\\n",
       "0  760161  Orphan: First Kill  Orphan: First Kill                en   \n",
       "1  760741               Beast               Beast                en   \n",
       "2  882598               Smile               Smile                en   \n",
       "3  756999     The Black Phone     The Black Phone                en   \n",
       "4  772450          Presencias           Presences                es   \n",
       "\n",
       "                                            overview  \\\n",
       "0  After escaping from an Estonian psychiatric fa...   \n",
       "1  A recently widowed man and his two teenage dau...   \n",
       "2  After witnessing a bizarre, traumatic incident...   \n",
       "3  Finney Blake, a shy but clever 13-year-old boy...   \n",
       "4  A man who loses his wife and goes to seclude h...   \n",
       "\n",
       "                                            tagline release_date  \\\n",
       "0  There's always been something wrong with Esther.   2022-07-27   \n",
       "1                                 Fight for family.   2022-08-11   \n",
       "2                   Once you see it, it’s too late.   2022-09-23   \n",
       "3                          Never talk to strangers.   2022-06-22   \n",
       "4                                               NaN   2022-09-07   \n",
       "\n",
       "                        poster_path  popularity  vote_count  ...    status  \\\n",
       "0  /pHkKbIRoCe7zIFvqan9LFSaQAde.jpg    5088.584         902  ...  Released   \n",
       "1  /xIGr7UHsKf0URWmyyd5qFMAq4d8.jpg    2172.338         584  ...  Released   \n",
       "2  /hiaeZKzwsk4y4atFhmncO5KRxeT.jpg    1863.628         114  ...  Released   \n",
       "3  /lr11mCT85T1JanlgjMuhs9nMht4.jpg    1071.398        2736  ...  Released   \n",
       "4  /dgDT3uol3mdvwEg0jt1ble3l9hw.jpg    1020.995          83  ...  Released   \n",
       "\n",
       "   adult                     backdrop_path                genre_names  \\\n",
       "0  False  /5GA3vV1aWWHTSDO5eno8V5zDo8r.jpg           Horror, Thriller   \n",
       "1  False  /2k9tBql5GYH328Krj66tDT9LtFZ.jpg   Adventure, Drama, Horror   \n",
       "2  False  /mVNPfpydornVe4H4UCIk7WevWjf.jpg  Horror, Mystery, Thriller   \n",
       "3  False  /AfvIjhDu9p64jKcmohS4hsPG95Q.jpg           Horror, Thriller   \n",
       "4  False  /ojfzhdwRemcDt1I6pao6vVLw9AA.jpg                     Horror   \n",
       "\n",
       "  collection    collection_name month day  year     profit  \n",
       "0   760193.0  Orphan Collection     7  27  2022    9572765  \n",
       "1        NaN                NaN     8  11  2022   56000000  \n",
       "2        NaN                NaN     9  23  2022   28000000  \n",
       "3        NaN                NaN     6  22  2022  142200000  \n",
       "4        NaN                NaN     9   7  2022          0  \n",
       "\n",
       "[5 rows x 24 columns]"
      ]
     },
     "execution_count": 36,
     "metadata": {},
     "output_type": "execute_result"
    }
   ],
   "source": [
    "df.head()"
   ]
  },
  {
   "cell_type": "markdown",
   "id": "474c10df-d447-4347-9dc0-c5a98e1b97a4",
   "metadata": {},
   "source": [
    "## data visualization"
   ]
  },
  {
   "cell_type": "code",
   "execution_count": 37,
   "id": "6412b12f-8eda-4349-8d2e-028023120821",
   "metadata": {},
   "outputs": [
    {
     "name": "stderr",
     "output_type": "stream",
     "text": [
      "D:\\anaconda3\\envs\\mohamed\\Lib\\site-packages\\seaborn\\_oldcore.py:1498: FutureWarning: is_categorical_dtype is deprecated and will be removed in a future version. Use isinstance(dtype, CategoricalDtype) instead\n",
      "  if pd.api.types.is_categorical_dtype(vector):\n",
      "D:\\anaconda3\\envs\\mohamed\\Lib\\site-packages\\seaborn\\_oldcore.py:1498: FutureWarning: is_categorical_dtype is deprecated and will be removed in a future version. Use isinstance(dtype, CategoricalDtype) instead\n",
      "  if pd.api.types.is_categorical_dtype(vector):\n",
      "D:\\anaconda3\\envs\\mohamed\\Lib\\site-packages\\seaborn\\_oldcore.py:1119: FutureWarning: use_inf_as_na option is deprecated and will be removed in a future version. Convert inf values to NaN before operating instead.\n",
      "  with pd.option_context('mode.use_inf_as_na', True):\n",
      "C:\\Users\\Mohamed\\AppData\\Roaming\\Python\\Python311\\site-packages\\IPython\\core\\pylabtools.py:152: UserWarning: Glyph 38738 (\\N{CJK UNIFIED IDEOGRAPH-9752}) missing from current font.\n",
      "  fig.canvas.print_figure(bytes_io, **kw)\n",
      "C:\\Users\\Mohamed\\AppData\\Roaming\\Python\\Python311\\site-packages\\IPython\\core\\pylabtools.py:152: UserWarning: Glyph 39740 (\\N{CJK UNIFIED IDEOGRAPH-9B3C}) missing from current font.\n",
      "  fig.canvas.print_figure(bytes_io, **kw)\n",
      "C:\\Users\\Mohamed\\AppData\\Roaming\\Python\\Python311\\site-packages\\IPython\\core\\pylabtools.py:152: UserWarning: Glyph 65288 (\\N{FULLWIDTH LEFT PARENTHESIS}) missing from current font.\n",
      "  fig.canvas.print_figure(bytes_io, **kw)\n",
      "C:\\Users\\Mohamed\\AppData\\Roaming\\Python\\Python311\\site-packages\\IPython\\core\\pylabtools.py:152: UserWarning: Glyph 31995 (\\N{CJK UNIFIED IDEOGRAPH-7CFB}) missing from current font.\n",
      "  fig.canvas.print_figure(bytes_io, **kw)\n",
      "C:\\Users\\Mohamed\\AppData\\Roaming\\Python\\Python311\\site-packages\\IPython\\core\\pylabtools.py:152: UserWarning: Glyph 21015 (\\N{CJK UNIFIED IDEOGRAPH-5217}) missing from current font.\n",
      "  fig.canvas.print_figure(bytes_io, **kw)\n",
      "C:\\Users\\Mohamed\\AppData\\Roaming\\Python\\Python311\\site-packages\\IPython\\core\\pylabtools.py:152: UserWarning: Glyph 65289 (\\N{FULLWIDTH RIGHT PARENTHESIS}) missing from current font.\n",
      "  fig.canvas.print_figure(bytes_io, **kw)\n",
      "C:\\Users\\Mohamed\\AppData\\Roaming\\Python\\Python311\\site-packages\\IPython\\core\\pylabtools.py:152: UserWarning: Glyph 34920 (\\N{CJK UNIFIED IDEOGRAPH-8868}) missing from current font.\n",
      "  fig.canvas.print_figure(bytes_io, **kw)\n",
      "C:\\Users\\Mohamed\\AppData\\Roaming\\Python\\Python311\\site-packages\\IPython\\core\\pylabtools.py:152: UserWarning: Glyph 21733 (\\N{CJK UNIFIED IDEOGRAPH-54E5}) missing from current font.\n",
      "  fig.canvas.print_figure(bytes_io, **kw)\n",
      "C:\\Users\\Mohamed\\AppData\\Roaming\\Python\\Python311\\site-packages\\IPython\\core\\pylabtools.py:152: UserWarning: Glyph 21040 (\\N{CJK UNIFIED IDEOGRAPH-5230}) missing from current font.\n",
      "  fig.canvas.print_figure(bytes_io, **kw)\n",
      "C:\\Users\\Mohamed\\AppData\\Roaming\\Python\\Python311\\site-packages\\IPython\\core\\pylabtools.py:152: UserWarning: Glyph 30495 (\\N{CJK UNIFIED IDEOGRAPH-771F}) missing from current font.\n",
      "  fig.canvas.print_figure(bytes_io, **kw)\n",
      "C:\\Users\\Mohamed\\AppData\\Roaming\\Python\\Python311\\site-packages\\IPython\\core\\pylabtools.py:152: UserWarning: Glyph 12539 (\\N{KATAKANA MIDDLE DOT}) missing from current font.\n",
      "  fig.canvas.print_figure(bytes_io, **kw)\n",
      "C:\\Users\\Mohamed\\AppData\\Roaming\\Python\\Python311\\site-packages\\IPython\\core\\pylabtools.py:152: UserWarning: Glyph 20107 (\\N{CJK UNIFIED IDEOGRAPH-4E8B}) missing from current font.\n",
      "  fig.canvas.print_figure(bytes_io, **kw)\n",
      "C:\\Users\\Mohamed\\AppData\\Roaming\\Python\\Python311\\site-packages\\IPython\\core\\pylabtools.py:152: UserWarning: Glyph 25925 (\\N{CJK UNIFIED IDEOGRAPH-6545}) missing from current font.\n",
      "  fig.canvas.print_figure(bytes_io, **kw)\n",
      "C:\\Users\\Mohamed\\AppData\\Roaming\\Python\\Python311\\site-packages\\IPython\\core\\pylabtools.py:152: UserWarning: Glyph 29289 (\\N{CJK UNIFIED IDEOGRAPH-7269}) missing from current font.\n",
      "  fig.canvas.print_figure(bytes_io, **kw)\n",
      "C:\\Users\\Mohamed\\AppData\\Roaming\\Python\\Python311\\site-packages\\IPython\\core\\pylabtools.py:152: UserWarning: Glyph 20214 (\\N{CJK UNIFIED IDEOGRAPH-4EF6}) missing from current font.\n",
      "  fig.canvas.print_figure(bytes_io, **kw)\n",
      "C:\\Users\\Mohamed\\AppData\\Roaming\\Python\\Python311\\site-packages\\IPython\\core\\pylabtools.py:152: UserWarning: Glyph 12471 (\\N{KATAKANA LETTER SI}) missing from current font.\n",
      "  fig.canvas.print_figure(bytes_io, **kw)\n",
      "C:\\Users\\Mohamed\\AppData\\Roaming\\Python\\Python311\\site-packages\\IPython\\core\\pylabtools.py:152: UserWarning: Glyph 12522 (\\N{KATAKANA LETTER RI}) missing from current font.\n",
      "  fig.canvas.print_figure(bytes_io, **kw)\n",
      "C:\\Users\\Mohamed\\AppData\\Roaming\\Python\\Python311\\site-packages\\IPython\\core\\pylabtools.py:152: UserWarning: Glyph 12540 (\\N{KATAKANA-HIRAGANA PROLONGED SOUND MARK}) missing from current font.\n",
      "  fig.canvas.print_figure(bytes_io, **kw)\n",
      "C:\\Users\\Mohamed\\AppData\\Roaming\\Python\\Python311\\site-packages\\IPython\\core\\pylabtools.py:152: UserWarning: Glyph 12474 (\\N{KATAKANA LETTER ZU}) missing from current font.\n",
      "  fig.canvas.print_figure(bytes_io, **kw)\n",
      "C:\\Users\\Mohamed\\AppData\\Roaming\\Python\\Python311\\site-packages\\IPython\\core\\pylabtools.py:152: UserWarning: Glyph 25918 (\\N{CJK UNIFIED IDEOGRAPH-653E}) missing from current font.\n",
      "  fig.canvas.print_figure(bytes_io, **kw)\n",
      "C:\\Users\\Mohamed\\AppData\\Roaming\\Python\\Python311\\site-packages\\IPython\\core\\pylabtools.py:152: UserWarning: Glyph 36865 (\\N{CJK UNIFIED IDEOGRAPH-9001}) missing from current font.\n",
      "  fig.canvas.print_figure(bytes_io, **kw)\n",
      "C:\\Users\\Mohamed\\AppData\\Roaming\\Python\\Python311\\site-packages\\IPython\\core\\pylabtools.py:152: UserWarning: Glyph 31105 (\\N{CJK UNIFIED IDEOGRAPH-7981}) missing from current font.\n",
      "  fig.canvas.print_figure(bytes_io, **kw)\n",
      "C:\\Users\\Mohamed\\AppData\\Roaming\\Python\\Python311\\site-packages\\IPython\\core\\pylabtools.py:152: UserWarning: Glyph 27490 (\\N{CJK UNIFIED IDEOGRAPH-6B62}) missing from current font.\n",
      "  fig.canvas.print_figure(bytes_io, **kw)\n"
     ]
    },
    {
     "data": {
      "image/png": "[encoded data removed]",
      "text/plain": [
       "<Figure size 640x480 with 1 Axes>"
      ]
     },
     "metadata": {},
     "output_type": "display_data"
    }
   ],
   "source": [
    "collection = df['collection_name'].sort_values(ascending=False).head(10)\n",
    "sns.histplot(data=df, x=collection, kde=True)\n",
    "plt.title('Distribution of Collection name')\n",
    "plt.xlabel('Collection Name')\n",
    "plt.ylabel('Count')\n",
    "plt.xticks(rotation=90)\n",
    "plt.show()"
   ]
  },
  {
   "cell_type": "code",
   "execution_count": 38,
   "id": "a624c177-91b6-4acd-ad0b-b9ccdd099f9f",
   "metadata": {},
   "outputs": [
    {
     "name": "stderr",
     "output_type": "stream",
     "text": [
      "D:\\anaconda3\\envs\\mohamed\\Lib\\site-packages\\seaborn\\_oldcore.py:1498: FutureWarning: is_categorical_dtype is deprecated and will be removed in a future version. Use isinstance(dtype, CategoricalDtype) instead\n",
      "  if pd.api.types.is_categorical_dtype(vector):\n",
      "D:\\anaconda3\\envs\\mohamed\\Lib\\site-packages\\seaborn\\_oldcore.py:1119: FutureWarning: use_inf_as_na option is deprecated and will be removed in a future version. Convert inf values to NaN before operating instead.\n",
      "  with pd.option_context('mode.use_inf_as_na', True):\n"
     ]
    },
    {
     "data": {
      "image/png": "[encoded data removed]",
      "text/plain": [
       "<Figure size 640x480 with 1 Axes>"
      ]
     },
     "metadata": {},
     "output_type": "display_data"
    }
   ],
   "source": [
    "sns.histplot(data=df, x='vote_average', kde=True)\n",
    "plt.title('Distribution of Vote Averages')\n",
    "plt.xlabel('Vote Average')\n",
    "plt.ylabel('Count')\n",
    "plt.show()"
   ]
  },
  {
   "cell_type": "code",
   "execution_count": 39,
   "id": "fc565620-35c4-459b-9d73-7ccc5f99c770",
   "metadata": {},
   "outputs": [
    {
     "name": "stderr",
     "output_type": "stream",
     "text": [
      "D:\\anaconda3\\envs\\mohamed\\Lib\\site-packages\\seaborn\\_oldcore.py:1498: FutureWarning: is_categorical_dtype is deprecated and will be removed in a future version. Use isinstance(dtype, CategoricalDtype) instead\n",
      "  if pd.api.types.is_categorical_dtype(vector):\n",
      "D:\\anaconda3\\envs\\mohamed\\Lib\\site-packages\\seaborn\\_oldcore.py:1498: FutureWarning: is_categorical_dtype is deprecated and will be removed in a future version. Use isinstance(dtype, CategoricalDtype) instead\n",
      "  if pd.api.types.is_categorical_dtype(vector):\n"
     ]
    },
    {
     "data": {
      "image/png": "[encoded data removed]",
      "text/plain": [
       "<Figure size 640x480 with 1 Axes>"
      ]
     },
     "metadata": {},
     "output_type": "display_data"
    }
   ],
   "source": [
    "sns.scatterplot(data=df, x='popularity', y='revenue')\n",
    "plt.title('Popularity vs Revenue')\n",
    "plt.xlabel('Popularity')\n",
    "plt.ylabel('Revenue')\n",
    "plt.show()"
   ]
  },
  {
   "cell_type": "code",
   "execution_count": 40,
   "id": "a2aae707-e70a-48c7-80d8-0881c0da6d34",
   "metadata": {},
   "outputs": [
    {
     "name": "stderr",
     "output_type": "stream",
     "text": [
      "D:\\anaconda3\\envs\\mohamed\\Lib\\site-packages\\seaborn\\_oldcore.py:1498: FutureWarning: is_categorical_dtype is deprecated and will be removed in a future version. Use isinstance(dtype, CategoricalDtype) instead\n",
      "  if pd.api.types.is_categorical_dtype(vector):\n",
      "D:\\anaconda3\\envs\\mohamed\\Lib\\site-packages\\seaborn\\_oldcore.py:1498: FutureWarning: is_categorical_dtype is deprecated and will be removed in a future version. Use isinstance(dtype, CategoricalDtype) instead\n",
      "  if pd.api.types.is_categorical_dtype(vector):\n",
      "D:\\anaconda3\\envs\\mohamed\\Lib\\site-packages\\seaborn\\_oldcore.py:1498: FutureWarning: is_categorical_dtype is deprecated and will be removed in a future version. Use isinstance(dtype, CategoricalDtype) instead\n",
      "  if pd.api.types.is_categorical_dtype(vector):\n"
     ]
    },
    {
     "data": {
      "image/png": "[encoded data removed]",
      "text/plain": [
       "<Figure size 640x480 with 1 Axes>"
      ]
     },
     "metadata": {},
     "output_type": "display_data"
    }
   ],
   "source": [
    "sns.countplot(data=df, x='month')\n",
    "plt.title('Count of Movies by Release month')\n",
    "plt.xlabel('Month')\n",
    "plt.ylabel('Count')\n",
    "plt.show()"
   ]
  },
  {
   "cell_type": "code",
   "execution_count": 41,
   "id": "1b46aa35-3653-4f74-82b9-9b7b0d0f5d24",
   "metadata": {
    "scrolled": true
   },
   "outputs": [
    {
     "name": "stderr",
     "output_type": "stream",
     "text": [
      "D:\\anaconda3\\envs\\mohamed\\Lib\\site-packages\\seaborn\\_oldcore.py:1498: FutureWarning: is_categorical_dtype is deprecated and will be removed in a future version. Use isinstance(dtype, CategoricalDtype) instead\n",
      "  if pd.api.types.is_categorical_dtype(vector):\n",
      "D:\\anaconda3\\envs\\mohamed\\Lib\\site-packages\\seaborn\\_oldcore.py:1498: FutureWarning: is_categorical_dtype is deprecated and will be removed in a future version. Use isinstance(dtype, CategoricalDtype) instead\n",
      "  if pd.api.types.is_categorical_dtype(vector):\n",
      "D:\\anaconda3\\envs\\mohamed\\Lib\\site-packages\\seaborn\\_oldcore.py:1498: FutureWarning: is_categorical_dtype is deprecated and will be removed in a future version. Use isinstance(dtype, CategoricalDtype) instead\n",
      "  if pd.api.types.is_categorical_dtype(vector):\n"
     ]
    },
    {
     "data": {
      "image/png": "[encoded data removed]",
      "text/plain": [
       "<Figure size 640x480 with 1 Axes>"
      ]
     },
     "metadata": {},
     "output_type": "display_data"
    }
   ],
   "source": [
    "original_language = df['original_language'].sort_values().head(10)\n",
    "sns.boxplot(data=df, x=original_language, y='runtime')\n",
    "plt.title('Runtime Distribution by Original Language')\n",
    "plt.xlabel('Original Language')\n",
    "plt.ylabel('Runtime')\n",
    "plt.show()"
   ]
  },
  {
   "cell_type": "code",
   "execution_count": 42,
   "id": "4c14505d-2670-438f-9b7a-1b567ce37f3b",
   "metadata": {},
   "outputs": [
    {
     "name": "stderr",
     "output_type": "stream",
     "text": [
      "D:\\anaconda3\\envs\\mohamed\\Lib\\site-packages\\seaborn\\_oldcore.py:1498: FutureWarning: is_categorical_dtype is deprecated and will be removed in a future version. Use isinstance(dtype, CategoricalDtype) instead\n",
      "  if pd.api.types.is_categorical_dtype(vector):\n",
      "D:\\anaconda3\\envs\\mohamed\\Lib\\site-packages\\seaborn\\_oldcore.py:1498: FutureWarning: is_categorical_dtype is deprecated and will be removed in a future version. Use isinstance(dtype, CategoricalDtype) instead\n",
      "  if pd.api.types.is_categorical_dtype(vector):\n"
     ]
    },
    {
     "data": {
      "text/plain": [
       "<Axes: xlabel='budget', ylabel='revenue'>"
      ]
     },
     "execution_count": 42,
     "metadata": {},
     "output_type": "execute_result"
    },
    {
     "data": {
      "image/png": "[encoded data removed]",
      "text/plain": [
       "<Figure size 640x480 with 1 Axes>"
      ]
     },
     "metadata": {},
     "output_type": "display_data"
    }
   ],
   "source": [
    "sns.scatterplot(data = df , x = 'budget', y= 'revenue')"
   ]
  },
  {
   "cell_type": "code",
   "execution_count": 43,
   "id": "b88c110d-66cb-41c4-abbb-38e79cacdec4",
   "metadata": {},
   "outputs": [
    {
     "data": {
      "image/png": "[encoded data removed]",
      "text/plain": [
       "<Figure size 800x800 with 1 Axes>"
      ]
     },
     "metadata": {},
     "output_type": "display_data"
    }
   ],
   "source": [
    "genre_names = df['genre_names'].sort_values(ascending = False).head(10)\n",
    "genre_counts = genre_names.value_counts()\n",
    "\n",
    "# Plotting a bar chart\n",
    "plt.figure(figsize=(8, 8))\n",
    "genre_counts.plot(kind='pie', autopct='%1.1f%%')\n",
    "plt.title('Distribution of Movie Genres')\n",
    "plt.ylabel('')\n",
    "plt.show()"
   ]
  },
  {
   "cell_type": "markdown",
   "id": "ab01fe5a-a821-44e3-808d-5c22dec9ca83",
   "metadata": {},
   "source": [
    "## dealing with missing values"
   ]
  },
  {
   "cell_type": "code",
   "execution_count": 44,
   "id": "d2d4d5ac-3920-4a88-bca1-05b2afb7fd18",
   "metadata": {},
   "outputs": [
    {
     "data": {
      "text/plain": [
       "id                       0\n",
       "original_title           0\n",
       "title                    0\n",
       "original_language        0\n",
       "overview              1286\n",
       "tagline              19834\n",
       "release_date             0\n",
       "poster_path           4474\n",
       "popularity               0\n",
       "vote_count               0\n",
       "vote_average             0\n",
       "budget                   0\n",
       "revenue                  0\n",
       "runtime                  0\n",
       "status                   0\n",
       "adult                    0\n",
       "backdrop_path        18995\n",
       "genre_names              0\n",
       "collection           30234\n",
       "collection_name      30234\n",
       "month                    0\n",
       "day                      0\n",
       "year                     0\n",
       "profit                   0\n",
       "dtype: int64"
      ]
     },
     "execution_count": 44,
     "metadata": {},
     "output_type": "execute_result"
    }
   ],
   "source": [
    "df.isna().sum()"
   ]
  },
  {
   "cell_type": "code",
   "execution_count": 45,
   "id": "8f32991c-63a4-4e7e-a5d8-e26a49041437",
   "metadata": {},
   "outputs": [],
   "source": [
    "df['collection_name'].fillna('',inplace=True)"
   ]
  },
  {
   "cell_type": "code",
   "execution_count": 46,
   "id": "9b146e3f-7f83-482f-a6ee-1c16900d6067",
   "metadata": {},
   "outputs": [],
   "source": [
    "df['overview'].fillna('Empty',inplace=True)"
   ]
  },
  {
   "cell_type": "code",
   "execution_count": 47,
   "id": "978fda7b-4f64-4b03-96e3-b9801147dffd",
   "metadata": {},
   "outputs": [],
   "source": [
    "df['tagline'].fillna('Empty',inplace = True)"
   ]
  },
  {
   "cell_type": "code",
   "execution_count": 48,
   "id": "a485cf23-8325-475f-8899-f7d0dd023f11",
   "metadata": {},
   "outputs": [
    {
     "data": {
      "text/plain": [
       "count    2.306000e+03\n",
       "mean     4.815349e+05\n",
       "std      3.244982e+05\n",
       "min      6.560000e+02\n",
       "25%      1.554210e+05\n",
       "50%      4.712590e+05\n",
       "75%      7.590672e+05\n",
       "max      1.033032e+06\n",
       "Name: collection, dtype: float64"
      ]
     },
     "execution_count": 48,
     "metadata": {},
     "output_type": "execute_result"
    }
   ],
   "source": [
    "df['collection'].describe()"
   ]
  },
  {
   "cell_type": "code",
   "execution_count": 49,
   "id": "4fb4866f-f024-4e66-acd9-0cda5f188dfc",
   "metadata": {},
   "outputs": [],
   "source": [
    "df['collection'].fillna(df['collection'].median(),inplace=True)"
   ]
  },
  {
   "cell_type": "code",
   "execution_count": 50,
   "id": "800ed821-7559-455a-ad5e-72e1d74fbd87",
   "metadata": {},
   "outputs": [],
   "source": [
    " df.to_csv('horror.csv')"
   ]
  },
  {
   "cell_type": "code",
   "execution_count": 51,
   "id": "1b33f6f7-a938-4f63-8e72-d13c440df600",
   "metadata": {},
   "outputs": [],
   "source": [
    "import streamlit as st"
   ]
  },
  {
   "cell_type": "code",
   "execution_count": 52,
   "id": "8d444fd1-9d8c-4ede-a25d-d0cc670f6705",
   "metadata": {},
   "outputs": [
    {
     "name": "stdout",
     "output_type": "stream",
     "text": [
      "Overwriting horror_movies1.py\n"
     ]
    }
   ],
   "source": [
    "%%writefile horror_movies1.py\n",
    "import streamlit as st\n",
    "import pandas as pd\n",
    "import plotly.express as px\n",
    "import matplotlib.pyplot as plt\n",
    "import seaborn as sns\n",
    "\n",
    "st.set_page_config(layout='wide',\n",
    "                  page_title = 'dashboard')\n",
    "\n",
    "tab1, tab2, tab3 = st.tabs(['descriptive statistics', 'numerical charts', 'categorical chart'])\n",
    "\n",
    "df = pd.read_csv(r\"D:\\epsilon course\\datasets\\horror.csv\")\n",
    "box = st.sidebar.checkbox('show data', False ,key =1)\n",
    "num = df.describe()\n",
    "cat = df.describe(include=\"O\")\n",
    "\n",
    "\n",
    "\n",
    "if box:\n",
    "    st.header('sample data')\n",
    "    st.dataframe(df.head(10))\n",
    "\n",
    "with tab1:\n",
    "    col1,col2,col3 = st.columns(3)\n",
    "    with col1:\n",
    "        st.subheader('categorical descriptive statistics')\n",
    "        st.dataframe(cat)\n",
    "        \n",
    "    with col3:\n",
    "        st.subheader('numerical descriptive statistics')\n",
    "        st.dataframe(num)\n",
    "with tab2:\n",
    "    month = st.sidebar.selectbox('select month',df['month'].unique())\n",
    "    vote = st.sidebar.selectbox('select vote',df['vote_average'].unique())\n",
    "    col1,col2,col3 = st.columns(3)\n",
    "    with col1:\n",
    "        new_df = df[df['month'] == month]\n",
    "        fig =  px.bar(df, x='month',  title= f'Count of Movies by Release month'.title())\n",
    "        st.plotly_chart(fig,use_container_width=True)\n",
    "        fig = px.bar(new_df, x ='month', y = 'revenue', color = 'vote_average',title = f'revenue for {month} month'.title())\n",
    "        st.plotly_chart(fig,use_container_width=True)\n",
    "        new_df1 = df[df['vote_average'] == vote]\n",
    "        fig = px.histogram(new_df1, x= 'vote_average',title = f'Distribution of vote average'.title())\n",
    "        st.plotly_chart(fig,use_container_width=True)\n",
    "        \n",
    "with tab3:\n",
    "    original_language = st.sidebar.selectbox('select movie name',df['original_language'].unique())\n",
    "    genre_name = st.sidebar.selectbox('select genre name',df['genre_names'].unique())\n",
    "    col1,col2,col3 = st.columns(3)\n",
    "    with col1:\n",
    "        df_new2 = df[df['original_language'] == original_language]\n",
    "        fig = px.scatter(df_new2, x='popularity', y='vote_average', hover_data=['original_language'])\n",
    "        st.plotly_chart(fig,use_container_width=True)\n",
    "        df_new3 = df[df['genre_names'] == genre_name]\n",
    "    with col3:\n",
    "        fig = px.bar(df_new3, x='genre_names', y='popularity')\n",
    "        st.plotly_chart(fig,use_container_width = True)\n"
   ]
  },
  {
   "cell_type": "code",
   "execution_count": null,
   "id": "1bd422c3-3667-4609-84c8-2d7d3a227604",
   "metadata": {},
   "outputs": [],
   "source": [
    "! streamlit run horror_movies1.py"
   ]
  },
  {
   "cell_type": "markdown",
   "id": "f66d6ffb-407b-4782-b1e0-637a191ced93",
   "metadata": {},
   "source": [
    "## Handle outliers"
   ]
  },
  {
   "cell_type": "code",
   "execution_count": null,
   "id": "823e1a37-a6f6-487e-8ab8-0f3788b131ed",
   "metadata": {},
   "outputs": [],
   "source": [
    "from datasist.structdata import detect_outliers\n",
    "index = detect_outliers(df,0,['popularity','vote_count','runtime','revenue','budget'])\n",
    "len(index)"
   ]
  },
  {
   "cell_type": "code",
   "execution_count": null,
   "id": "8c5d9c31-2619-4cdd-a874-e37ea741287f",
   "metadata": {},
   "outputs": [],
   "source": [
    "df.shape"
   ]
  },
  {
   "cell_type": "code",
   "execution_count": null,
   "id": "87e9b421-8b62-4f3f-b8dd-d02f1fdfadde",
   "metadata": {},
   "outputs": [],
   "source": [
    "df.drop(index,inplace=True)"
   ]
  },
  {
   "cell_type": "markdown",
   "id": "5fd7acf6-9873-48d0-8f94-967c7c8516c6",
   "metadata": {},
   "source": [
    "## working on recommendation system "
   ]
  },
  {
   "cell_type": "code",
   "execution_count": null,
   "id": "8adcc769-34aa-4aba-8234-737262d5d777",
   "metadata": {},
   "outputs": [],
   "source": [
    "from sklearn.metrics.pairwise import cosine_similarity"
   ]
  },
  {
   "cell_type": "code",
   "execution_count": null,
   "id": "679bb733-6894-4752-a28d-2e5e422b272b",
   "metadata": {},
   "outputs": [],
   "source": [
    "np.unique(df['original_language'])"
   ]
  },
  {
   "cell_type": "markdown",
   "id": "79537bf8-7243-428e-a7cb-4a6971011466",
   "metadata": {},
   "source": [
    "## choose only some portion of data"
   ]
  },
  {
   "cell_type": "code",
   "execution_count": null,
   "id": "a0483e33-64ad-44ef-8176-4c4f5a3d15bd",
   "metadata": {},
   "outputs": [],
   "source": [
    "df_2 = df.loc[(df['original_language'] == 'en') & (df['year']>2000)]\n",
    "len(df_2)"
   ]
  },
  {
   "cell_type": "code",
   "execution_count": null,
   "id": "36c731b0-e569-41fc-94d1-7533c897f00e",
   "metadata": {},
   "outputs": [],
   "source": [
    "df_3 = pd.DataFrame(df_2)\n",
    "df_3.tail()"
   ]
  },
  {
   "cell_type": "code",
   "execution_count": null,
   "id": "fcfc3d1e-81bb-4602-8171-0f6cdd7f3e8d",
   "metadata": {},
   "outputs": [],
   "source": [
    "final_data = df_3[['title','tagline']]\n",
    "final_data = final_data.set_index('title')"
   ]
  },
  {
   "cell_type": "code",
   "execution_count": null,
   "id": "f2489e72-1404-4162-935b-e7162667c421",
   "metadata": {},
   "outputs": [],
   "source": [
    "final_data.head(50)"
   ]
  },
  {
   "cell_type": "markdown",
   "id": "d608c6d9-2a95-427a-afc6-da1564832d09",
   "metadata": {},
   "source": [
    "## preprocess the data"
   ]
  },
  {
   "cell_type": "code",
   "execution_count": null,
   "id": "d61faf93-1f1e-4241-a9c0-b8a95aa2b378",
   "metadata": {},
   "outputs": [],
   "source": [
    "import nltk\n",
    "nltk.download('punkt')\n",
    "nltk.download('averaged_perceptron_tagger')\n",
    "nltk.download('wordnet')\n",
    "nltk.download('stopwords')\n",
    "from nltk.stem import WordNetLemmatizer\n",
    "from nltk.corpus import stopwords\n",
    "lemmatizer = WordNetLemmatizer()"
   ]
  },
  {
   "cell_type": "code",
   "execution_count": null,
   "id": "5482a5e1-3f77-48ac-953b-2c4d4e444656",
   "metadata": {},
   "outputs": [],
   "source": [
    "def preprocess_sentences(text):\n",
    "    text = text.lower()\n",
    "    words = nltk.word_tokenize(text)\n",
    "    my_sent = [lemmatizer.lemmatize(word) for word in words if word not in stopwords.words('english')]\n",
    "    final_sent = ' '.join(my_sent)\n",
    "    final_sent = final_sent.replace(\"n't\", \"not\")\n",
    "    final_sent = final_sent.replace(\"'m\", \"am\")\n",
    "    final_sent = final_sent.replace(\"'s\", \"is\")\n",
    "    final_sent = final_sent.replace(\"'re\", \"are\")\n",
    "    final_sent = final_sent.replace(\"'ll\", \"will\")\n",
    "    final_sent = final_sent.replace(\"'d\", \"would\")\n",
    "    final_sent = final_sent.replace(\"'ve\", \"have\")\n",
    "    return final_sent\n",
    "final_data['new_tagline'] = final_data['tagline'].apply(preprocess_sentences)\n",
    "final_data.head()\n"
   ]
  },
  {
   "cell_type": "markdown",
   "id": "245273a4-c301-472f-85e1-e2fd3dd0d2a5",
   "metadata": {},
   "source": [
    "## using TF-IDF to vectorize preprocessed movie tagline"
   ]
  },
  {
   "cell_type": "code",
   "execution_count": null,
   "id": "25a7b0cb-aa51-4574-9811-4a396a2276a0",
   "metadata": {},
   "outputs": [],
   "source": [
    "from sklearn.feature_extraction.text import TfidfVectorizer\n",
    "\n",
    "tfidf = TfidfVectorizer()\n",
    "tfidf_movie_id = tfidf.fit_transform((final_data[\"new_tagline\"]))\n",
    "\n",
    "# finding cosine similarity between vectors\n",
    "from sklearn.metrics.pairwise import cosine_similarity\n",
    "similarty = cosine_similarity(tfidf_movie_id, tfidf_movie_id)"
   ]
  },
  {
   "cell_type": "code",
   "execution_count": null,
   "id": "534b67a7-8b33-4a65-9419-44dbd507a0d2",
   "metadata": {},
   "outputs": [],
   "source": [
    "indices = pd.Series(final_data.index)\n",
    "\n",
    "def recommendation(title, cosine_sim = similarty):\n",
    "    try:\n",
    "        index = indices[indices == title].index[0]\n",
    "        similarity_scores = pd.Series(cosine_sim[index]).sort_values(ascending = False)\n",
    "        top_10_movies = list(similarity_scores.iloc[1:11].index)\n",
    "        recommended_movies = [list(final_data.index)[i] for i in top_10_movies]\n",
    "        return recommended_movies\n",
    "    except:\n",
    "        print(\"No movie name found\")"
   ]
  },
  {
   "cell_type": "code",
   "execution_count": null,
   "id": "1e629bef-3e97-489e-8fc1-99292f7784e7",
   "metadata": {},
   "outputs": [],
   "source": [
    "recommendation('The Revenge of Robert')"
   ]
  },
  {
   "cell_type": "code",
   "execution_count": null,
   "id": "6e422ac7-c7c4-4816-a7b7-8a110752c10e",
   "metadata": {},
   "outputs": [],
   "source": []
  }
 ],
 "metadata": {
  "kernelspec": {
   "display_name": "Python 3 (ipykernel)",
   "language": "python",
   "name": "python3"
  },
  "language_info": {
   "codemirror_mode": {
    "name": "ipython",
    "version": 3
   },
   "file_extension": ".py",
   "mimetype": "text/x-python",
   "name": "python",
   "nbconvert_exporter": "python",
   "pygments_lexer": "ipython3",
   "version": "3.11.5"
  }
 },
 "nbformat": 4,
 "nbformat_minor": 5
}
